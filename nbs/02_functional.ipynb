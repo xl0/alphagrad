{
 "cells": [
  {
   "cell_type": "code",
   "execution_count": null,
   "metadata": {},
   "outputs": [],
   "source": [
    "# | hide\n",
    "# | default_exp functional\n",
    "import nbdev\n",
    "from nbdev.showdoc import *\n",
    "\n",
    "nbdev.nbdev_export()"
   ]
  },
  {
   "attachments": {},
   "cell_type": "markdown",
   "metadata": {},
   "source": [
    "# 🔸 Functional operations\n"
   ]
  },
  {
   "cell_type": "code",
   "execution_count": null,
   "metadata": {},
   "outputs": [],
   "source": [
    "# | exporti\n",
    "\n",
    "import os\n",
    "\n",
    "# os.environ[\"OMP_NUM_THREADS\"] = \"1\"\n",
    "# os.environ[\"OPENBLAS_NUM_THREADS\"] = \"1\"\n",
    "# os.environ[\"MKL_NUM_THREADS\"] = \"1\"\n",
    "# os.environ[\"VECLIB_MAXIMUM_THREADS\"] = \"1\"\n",
    "# os.environ[\"NUMEXPR_NUM_THREADS\"] = \"1\"\n",
    "\n",
    "# MKL_NUM_THREADS=1\n",
    "# NUMEXPR_NUM_THREADS=1\n",
    "# OMP_NUM_THREADS=1\n",
    "\n",
    "import numpy as np\n",
    "from tidygrad.tensor import Tensor, UnaryElementwiseOp, BinaryElementwiseOp, BaseOp, ExpLog"
   ]
  },
  {
   "cell_type": "code",
   "execution_count": null,
   "metadata": {},
   "outputs": [],
   "source": [
    "# | exporti\n",
    "class Sigmoid(UnaryElementwiseOp):\n",
    "    \"\"\"Take the sigmoid of a tensor\"\"\"\n",
    "    name_template = \"sigmoid({})\"\n",
    "\n",
    "    def __init__(self, a, name=None):\n",
    "        super().__init__(a, name=name)\n",
    "        # self.out = Tensor(1 / (1 + np.exp(-self.args[0].data)), name=self.name, op=self)\n",
    "        self.set_out(1 / (1 + np.exp(-self.args[0].data)))\n",
    "\n",
    "\n",
    "    def backward(self):\n",
    "        self.check_backward()\n",
    "        with np.errstate(under=\"ignore\"):  # Triggered by infinitesimally small 1-data\n",
    "            self.parents[0].grad += self.out.grad * self.out.data * (1 - self.out.data)"
   ]
  },
  {
   "cell_type": "code",
   "execution_count": null,
   "metadata": {},
   "outputs": [],
   "source": [
    "# | export\n",
    "def sigmoid(input, name=None):\n",
    "    return Sigmoid(input, name=name).out"
   ]
  },
  {
   "cell_type": "code",
   "execution_count": null,
   "metadata": {},
   "outputs": [],
   "source": [
    "#| export\n",
    "def softmax(input, name=None):\n",
    "    exp = input.exp()\n",
    "    return exp.div(exp.sum(axis=-1, keepdims=True), name=name)"
   ]
  },
  {
   "cell_type": "code",
   "execution_count": null,
   "metadata": {},
   "outputs": [],
   "source": [
    "# | exporti\n",
    "class Relu(UnaryElementwiseOp):\n",
    "    \"\"\"Take the sigmoid of a tensor\"\"\"\n",
    "\n",
    "    name_template = \"relu({})\"\n",
    "\n",
    "    def __init__(self, a, name=None):\n",
    "        super().__init__(a, name=name)\n",
    "        # self.out = Tensor(np.maximum(0, self.args[0].data), name=self.name, op=self)\n",
    "        self.set_out(np.maximum(0, self.args[0].data))\n",
    "\n",
    "    def backward(self):\n",
    "        self.check_backward()\n",
    "        self.parents[0].grad += self.out.grad * (self.out.data > 0)"
   ]
  },
  {
   "cell_type": "code",
   "execution_count": null,
   "metadata": {},
   "outputs": [],
   "source": [
    "# | export\n",
    "def relu(input, name=None):\n",
    "    return Relu(input, name=name).out"
   ]
  },
  {
   "cell_type": "code",
   "execution_count": null,
   "metadata": {},
   "outputs": [],
   "source": [
    "# | export\n",
    "def BCE_loss(logits: Tensor, target: Tensor, reduction=\"mean\"):\n",
    "    loss = logits - logits*target + ExpLog(-logits).out\n",
    "    if reduction == \"mean\": return loss.mean()\n",
    "    if reduction == \"sum\": return loss.sum()\n",
    "    assert 0, \"Invalid reduction\""
   ]
  },
  {
   "cell_type": "code",
   "execution_count": null,
   "metadata": {},
   "outputs": [],
   "source": [
    "#| export\n",
    "\n",
    "def CrossEntropy_loss(logits: Tensor, target: Tensor, reduction=\"mean\"):\n",
    "    if not isinstance(target, Tensor): target = Tensor(target)\n",
    "    sm = softmax(logits)\n",
    "    loss = -target * sm.log()\n",
    "    if reduction == \"mean\": return loss.mean()\n",
    "    if reduction == \"sum\": return loss.sum()\n",
    "    assert 0, \"Invalid reduction\""
   ]
  },
  {
   "cell_type": "code",
   "execution_count": null,
   "metadata": {},
   "outputs": [],
   "source": [
    "# | exporti\n",
    "class Dropout(UnaryElementwiseOp):\n",
    "    \"\"\"Apply Dropout to a tensor\"\"\"\n",
    "\n",
    "    name_template = \"dropout({})\"\n",
    "\n",
    "    def __init__(self, a, p_drop=0.1, training=True, name=None):\n",
    "        super().__init__(a, name=name)\n",
    "        assert 0 < p_drop < 1, f\"p_drop must in (0, 1), got {p_drop}\"\n",
    "        self.p_drop = p_drop\n",
    "        self.training = training\n",
    "        if training:\n",
    "            # Note: We scale up the outputs during training rather than scaling down during inference.\n",
    "            scale_factor = 1 / (1-p_drop)\n",
    "            self.mask = np.random.binomial(scale_factor, 1 - p_drop, size=self.args[0].data.shape)\n",
    "            # self.out = Tensor(self.args[0].data * self.mask, name=self.name, op=self)\n",
    "            self.set_out(self.args[0].data * self.mask)\n",
    "        else:\n",
    "            # self.out = Tensor(self.args[0].data, name=self.name, op=self)\n",
    "            self.set_out(self.args[0].data)\n",
    "\n",
    "    def backward(self):\n",
    "        self.check_backward()\n",
    "        self.parents[0].grad += self.out.grad * (self.mask if self.training else 1)"
   ]
  },
  {
   "cell_type": "code",
   "execution_count": null,
   "metadata": {},
   "outputs": [],
   "source": [
    "#| exporti\n",
    "class Embedding(UnaryElementwiseOp):\n",
    "    \"\"\"Embedding layer\"\"\"\n",
    "\n",
    "    name_template = \"embedding({})\"\n",
    "\n",
    "    def __init__(self, a, indices, name=None):\n",
    "        super().__init__(a, name=name)\n",
    "        self.indices = indices\n",
    "        # self.out = Tensor(self.args[0].data[self.indices], name=self.name, op=self)\n",
    "        self.set_out(self.args[0].data[self.indices])\n",
    "\n",
    "    def backward(self):\n",
    "        self.check_backward()\n",
    "        self.parents[0].grad[self.indices] += self.out.grad"
   ]
  },
  {
   "cell_type": "code",
   "execution_count": null,
   "metadata": {},
   "outputs": [],
   "source": [
    "#| exporti\n",
    "def embedding(input, indices, name=None):\n",
    "    return Embedding(input, indices, name=name).out"
   ]
  },
  {
   "cell_type": "code",
   "execution_count": null,
   "metadata": {},
   "outputs": [],
   "source": [
    "# | export\n",
    "def dropout(x, p=0.5, training=True):\n",
    "    if p == 0:\n",
    "        return x\n",
    "\n",
    "    return Dropout(x, p_drop=p, training=training).out"
   ]
  },
  {
   "cell_type": "markdown",
   "metadata": {},
   "source": [
    "### 🔹 Convolution\n"
   ]
  },
  {
   "cell_type": "code",
   "execution_count": null,
   "metadata": {},
   "outputs": [],
   "source": [
    "#| export\n",
    "\n",
    "from typing import Union, Tuple"
   ]
  },
  {
   "cell_type": "code",
   "execution_count": null,
   "metadata": {},
   "outputs": [],
   "source": [
    "def np_pad2d(a: np.ndarray, pad: tuple[int, int]) -> np.ndarray:\n",
    "    h, w = pad\n",
    "    pad_widths = [(0, 0)] * (a.ndim - 2) + [(h, h), (w, w)]\n",
    "    return np.pad(a, pad_widths, mode=\"constant\")\n",
    "\n",
    "def np_unpad2d(a: np.ndarray, pad: tuple[int, int]) -> np.ndarray:\n",
    "    h, w = pad\n",
    "    return a[..., h:-h, w:-w]"
   ]
  },
  {
   "cell_type": "code",
   "execution_count": null,
   "metadata": {},
   "outputs": [],
   "source": [
    "# Updated test for np_pad\n",
    "A = np.array([[1, 2], [3, 4]])\n",
    "pad_A = np_pad2d(A, (1, 1))\n",
    "assert np.array_equal(pad_A, [[0, 0, 0, 0], [0, 1, 2, 0], [0, 3, 4, 0], [0, 0, 0, 0]])\n",
    "A_recovered = np_unpad2d(pad_A, (1, 1))\n",
    "assert np.array_equal(A, A_recovered)\n"
   ]
  },
  {
   "cell_type": "code",
   "execution_count": null,
   "metadata": {},
   "outputs": [],
   "source": [
    "#| export\n",
    "class Pad(UnaryElementwiseOp):\n",
    "    \"\"\"Pad a tensor\"\"\"\n",
    "    name_template = \"pad2d({})\"\n",
    "\n",
    "    def __init__(self, a, padding: Union[int, Tuple[int, int]], name=None):\n",
    "        super().__init__(a, name=name)\n",
    "        self.padding = (padding, padding) if isinstance(padding, int) else padding\n",
    "        self.out = Tensor(np_pad2d(a.data, self.padding), name=self.name, op=self)\n",
    "\n",
    "    def backward(self):\n",
    "        self.parents[0].grad += np_unpad2d(self.out.grad, self.padding)\n",
    "        # pY, pX = self.padding\n",
    "        # slices = (slice(None),) * (len(self.args[0].shape) - 2) \\\n",
    "        #     + (slice(pY, -pY),) + (slice(pX, -pX),)\n",
    "        # self.parents[0].grad += self.out.grad[slices]"
   ]
  },
  {
   "cell_type": "code",
   "execution_count": null,
   "metadata": {},
   "outputs": [],
   "source": [
    "from matplotlib import pyplot as plt"
   ]
  },
  {
   "cell_type": "code",
   "execution_count": null,
   "metadata": {},
   "outputs": [
    {
     "data": {
      "image/png": "[encoded data removed]",
      "text/plain": [
       "<Figure size 640x480 with 1 Axes>"
      ]
     },
     "metadata": {},
     "output_type": "display_data"
    }
   ],
   "source": [
    "x = Tensor(np.random.randn(1, 1, 4, 5), name=\"x\")\n",
    "bias = Pad(x, 1).out\n",
    "\n",
    "plt.imshow(bias.data[0, 0, :, :]);"
   ]
  },
  {
   "cell_type": "code",
   "execution_count": null,
   "metadata": {},
   "outputs": [],
   "source": [
    "def np_conv2d(input: np.ndarray, kernel: np.ndarray, bias: np.ndarray):\n",
    "    batch, input_channels, input_height, input_width = input.shape\n",
    "    output_channels, _input_channels, kernel_height, kernel_width = kernel.shape\n",
    "\n",
    "    assert kernel_height % 2 == 1, \"Only odd kernel sizes are supported for\"\n",
    "    assert kernel_width % 2 == 1, \"Only odd kernel sizes are supported for\"\n",
    "\n",
    "    assert input_channels == _input_channels, f\"Input channels mismatch: {input_channels} != {_input_channels}\"\n",
    "    assert bias.shape == (output_channels, ), f\"Invalid bias shape: {bias.shape}\"\n",
    "\n",
    "    # bias = bias / (kernel_height * kernel_width)\n",
    "\n",
    "    output_height = input_height - kernel_height + 1\n",
    "    output_width = input_width - kernel_width + 1\n",
    "\n",
    "    y = np.zeros((batch, output_channels, output_height, output_width), dtype=input.dtype)\n",
    "    for r in range(output_height):\n",
    "        for c in range(output_width):\n",
    "            region = input[..., r:r + kernel_height, c:c + kernel_width]\n",
    "            y[..., r, c] = np.sum(region * kernel, axis=(-1, -2, -3)) + bias\n",
    "    return y\n",
    "\n",
    "def np_kernel_grad(input: np.ndarray, kernel: np.ndarray, bias: np.ndarray, grad: np.ndarray):\n",
    "    batch, input_channels, input_height, input_width = input.shape\n",
    "    output_channels, _input_channels, kernel_height, kernel_width = kernel.shape\n",
    "\n",
    "    assert kernel_height % 2 == 1, \"Only odd kernel sizes are supported for\"\n",
    "    assert kernel_width % 2 == 1, \"Only odd kernel sizes are supported for\"\n",
    "\n",
    "    assert input_channels == _input_channels, f\"Input channels mismatch: {input_channels} != {_input_channels}\"\n",
    "    assert bias.shape == (output_channels, ), f\"Invalid bias shape: {bias.shape}\"\n",
    "\n",
    "    output_height = input_height - kernel_height + 1\n",
    "    output_width = input_width - kernel_width + 1\n",
    "\n",
    "    # padded_input  # [ batch, input_channels, input_height, input_width\n",
    "    # kernel        # [ output_channels, input_channels, kernel_height, kernel_width ]\n",
    "    # grad          # [ batch, output_channels, output_height, output_width ]\n",
    "\n",
    "    # assert kernel_width == kernel_height, \"Only square kernels are supported for now\"\n",
    "\n",
    "    assert grad.shape[-2:] == (output_height, output_width), f\"Invalid grad shape: {grad.shape}\"\n",
    "\n",
    "    grad_w = np.zeros_like(kernel)\n",
    "    for r in range(output_height):\n",
    "        for c in range(output_width):\n",
    "            p = input[:, :, r:r + kernel_height, c:c + kernel_width]\n",
    "\n",
    "            for ch in range(0, output_channels):\n",
    "                q = grad[:, ch, r, c]\n",
    "                grad_w[ch, :, :, :] += (p * q).sum(axis=0)\n",
    "\n",
    "    return grad_w"
   ]
  },
  {
   "cell_type": "markdown",
   "metadata": {},
   "source": [
    "### Relationship Between Padding, Kernel Size, and Deconvolution\n",
    "\n",
    "For a convolution operation, given:\n",
    "\n",
    "- Input size $N$\n",
    "- Kernel size $k$ (where $k \\leq N$)\n",
    "- Padding $p$ (applied symmetrically on all sides)\n",
    "\n",
    "The padded input will have a size of $N + 2p$.\n",
    "\n",
    "After applying the convolution with the kernel, the output $y$ will have a size:\n",
    "\n",
    "$$\n",
    "N_y = N + 2p - k + 1\n",
    "$$\n",
    "\n",
    "#### Back to Input Domain (Deconvolution)\n",
    "\n",
    "Before convolving back to the input domain, we apply a new padding $p'$ (unknown at this point) to $N_y$, resulting in a length of $N_y + 2p'$.\n",
    "\n",
    "After the deconvolution, we get:\n",
    "\n",
    "$$\n",
    "(N_y + 2p') - k + 1 = N + 2p - k + 1 + 2p' - k + 1\n",
    "$$\n",
    "\n",
    "Simplifying, we find:\n",
    "\n",
    "$$\n",
    "N + 2(p + p') - 2k + 2 = N \\\\\n",
    "2(p + p') - 2k + 2 = 0 \\\\\n",
    "p + p' = k - 1 \\\\\n",
    "p' = k - p - 1 \\\\\n",
    "$$\n",
    "\n",
    "This equation gives us the value of $p'$ required to get back to the input domain size $N$ after deconvolution.\n",
    "\n",
    "---\n"
   ]
  },
  {
   "cell_type": "markdown",
   "metadata": {},
   "source": [
    "### Back-propagation through a convolutional layer\n",
    "\n",
    "For a convolution operation, given:\n",
    "\n",
    "(even kernels only, stride size one)\n",
    "\n",
    "- Input size $N$\n",
    "- Kernel size $k$ (where $k \\leq N$)\n",
    "\n",
    "##### Forward pass:\n",
    "\n",
    "- Output size will be $N - (k+1)$\n",
    "\n",
    "For example:\n",
    "Input 7x7, kernel 3 -> output 5x5\n",
    "Input 11x11, kernel 5 -> output 7x7\n",
    "\n",
    "#### Back pass, calculating the gradient for the input.\n",
    "\n",
    "The shape of the chain gradient will be the same the output.\n",
    "\n",
    "We are going to apply a convolution to it with the rotated and transposed kernel,\n",
    "so we need to pad the gradient for the convolution to produce an output of input size.\n",
    "\n",
    "for example\n",
    "(Forward ) Input 7x7, kernel 3 -> output 5x5\n",
    "(Backward) Gradient 5x5, padded by P, kernel 3 -> output should be 7x7\n",
    "\n",
    "Thus 2P (padding on both sides) should be input_size - output_size + (kernel_size - 1)\n",
    "\n",
    "And P should be (input_size - output_size + (kernel_size - 1)) / 2  \n",
    "Note that (kernel_size - 1) is always even, and input_size and output_size\n",
    "are either both even or both odd, so this divides evenly.\n"
   ]
  },
  {
   "cell_type": "code",
   "execution_count": null,
   "metadata": {},
   "outputs": [],
   "source": [
    "class Conv2D(BaseOp):\n",
    "    def __init__(self, input, kernel, bias, stride=1, padding=0, name=None):\n",
    "        super().__init__(input, kernel, bias, name=name)\n",
    "        assert stride == 1, \"Only stride=1 is supported for now\"\n",
    "        if 1 in kernel.data.shape[-2:]:\n",
    "            assert padding == 0, \"Padding is not supported for 1x1 kernels\"\n",
    "        self.stride = stride\n",
    "        self.padding = (padding, padding) if isinstance(padding, int) else padding\n",
    "        self.parents = [*self.args] if self.requires_grad else []\n",
    "        self.input_data_padded = np_pad2d(self.args[0].data, self.padding)\n",
    "\n",
    "        data = np_conv2d(self.input_data_padded, kernel.data, bias.data)\n",
    "\n",
    "        self.set_out(data)\n",
    "        # self.out = Tensor(data, name=self.name, op=self)\n",
    "\n",
    "    def backward(self):\n",
    "        rot180 = lambda x: np.rot90(x, 2, axes=(-1, -2)).transpose(1, 0, 2, 3)\n",
    "        input, kernel, bias = self.args\n",
    "        grad = self.out.grad\n",
    "\n",
    "        pad_h = (input.data.shape[-2] - self.out.data.shape[-2] + (kernel.data.shape[-2] - 1))\n",
    "        pad_w = (input.data.shape[-1] - self.out.data.shape[-1] + (kernel.data.shape[-1] - 1))\n",
    "\n",
    "        assert pad_h % 2 == 0, \"Invalid padding\"\n",
    "        assert pad_w % 2 == 0, \"Invalid padding\"\n",
    "        pad_h //= 2\n",
    "        pad_w //= 2\n",
    "\n",
    "        padded_grad = np_pad2d(grad, (pad_h, pad_w))\n",
    "        input.accum_grad(np_conv2d(padded_grad, rot180(kernel.data), np.zeros(input.shape[1])))\n",
    "\n",
    "        kernel.accum_grad(np_kernel_grad(self.input_data_padded, kernel.data, bias.data, grad))\n",
    "        bias.accum_grad( grad.sum(axis=(0, -1, -2)))\n"
   ]
  },
  {
   "cell_type": "code",
   "execution_count": null,
   "metadata": {},
   "outputs": [],
   "source": [
    "from tidygrad.utils.grad_check import grad_check"
   ]
  },
  {
   "cell_type": "code",
   "execution_count": null,
   "metadata": {},
   "outputs": [
    {
     "name": "stdout",
     "output_type": "stream",
     "text": [
      "Max fractional gradient difference for b: 0.0000%\n",
      "Max fractional gradient difference for w: 0.0000%\n"
     ]
    },
    {
     "name": "stdout",
     "output_type": "stream",
     "text": [
      "Max fractional gradient difference for x: 0.0000%\n"
     ]
    }
   ],
   "source": [
    "h = 12\n",
    "w = 12\n",
    "kernel_h = 3\n",
    "kernel_w = 3\n",
    "\n",
    "in_ch = 2\n",
    "out_ch = 5\n",
    "pad = 1\n",
    "\n",
    "x = Tensor(np.random.randn(in_ch, h, w)[None], \"x\", requires_grad=True)\n",
    "\n",
    "filter = np.random.randn(out_ch, in_ch, kernel_h, kernel_w)\n",
    "kernel = Tensor(filter, \"w\", requires_grad=True)\n",
    "\n",
    "bias = Tensor(np.random.randn(out_ch), \"b\", requires_grad=True)\n",
    "conv = Conv2D(x, kernel, bias, padding=pad).out\n",
    "loss = conv.mean()\n",
    "loss.backward()\n",
    "\n",
    "def func(inputs, params):\n",
    "    x, kernel, bias = params\n",
    "    return Conv2D(x, kernel, bias, padding=pad).out.mean()\n",
    "\n",
    "grad_check(func, None, (x, kernel, bias))"
   ]
  },
  {
   "cell_type": "code",
   "execution_count": null,
   "metadata": {},
   "outputs": [],
   "source": [
    "from tidygrad.utils.datasets import MNIST"
   ]
  },
  {
   "cell_type": "code",
   "execution_count": null,
   "metadata": {},
   "outputs": [
    {
     "data": {
      "image/png": "[encoded data removed]",
      "text/plain": [
       "<Figure size 640x480 with 1 Axes>"
      ]
     },
     "metadata": {},
     "output_type": "display_data"
    },
    {
     "data": {
      "text/plain": [
       "<matplotlib.image.AxesImage>"
      ]
     },
     "execution_count": null,
     "metadata": {},
     "output_type": "execute_result"
    },
    {
     "data": {
      "image/png": "[encoded data removed]",
      "text/plain": [
       "<Figure size 640x480 with 1 Axes>"
      ]
     },
     "metadata": {},
     "output_type": "display_data"
    }
   ],
   "source": [
    "mnist = MNIST()\n",
    "\n",
    "x = Tensor(mnist[1][0][None][None], \"x\")\n",
    "plt.show(plt.imshow(x.data[0, 0]))\n",
    "\n",
    "filter = np.array([[1., 0, -1], [1, 0, -1], [1, 0, -1]])[None, None]\n",
    "\n",
    "kernel = Tensor(filter.reshape(1, 1, 3, 3), \"w\")\n",
    "bias = Tensor(np.zeros((1, )), \"b\")\n",
    "\n",
    "conv = Conv2D(x, kernel, bias, padding=10).out\n",
    "# conv = Conv2D(conv, kernel, bias, padding=1).out\n",
    "# conv = Conv2D(conv, kernel, bias, padding=1).out\n",
    "plt.imshow(conv.data[0, 0, :, :])"
   ]
  },
  {
   "cell_type": "code",
   "execution_count": null,
   "metadata": {},
   "outputs": [],
   "source": [
    "class MaxPool2D(UnaryElementwiseOp):\n",
    "    def __init__(self, a, kernel_size, name=None):\n",
    "        super().__init__(a, name=name)\n",
    "        self.kernel_size = kernel_size\n"
   ]
  },
  {
   "cell_type": "code",
   "execution_count": null,
   "metadata": {},
   "outputs": [
    {
     "name": "stdout",
     "output_type": "stream",
     "text": [
      "[[[[ 0  1  2  3  4  5]\n",
      "   [ 6  7  8  9 10 11]\n",
      "   [12 13 14 15 16 17]\n",
      "   [18 19 20 21 22 23]\n",
      "   [24 25 26 27 28 29]\n",
      "   [30 31 32 33 34 35]]]]\n"
     ]
    }
   ],
   "source": [
    "A = np.arange(0, 36).reshape(1, 1, 6, 6)\n",
    "A.reshape(1, 1, 3, 3, 2, 2)\n",
    "\n",
    "print(A)\n",
    "\n",
    "block_size = 2\n",
    "\n",
    "shape = A.shape\n",
    "new_shape = shape[:-2] + (shape[-2] // block_size, block_size, shape[-1] // block_size, block_size)\n",
    "A.reshape(new_shape).swapaxes(-2, -3)\n",
    "\n",
    "def factorial(a):\n",
    "    return np.prod(np.arange)\n"
   ]
  },
  {
   "cell_type": "code",
   "execution_count": null,
   "metadata": {},
   "outputs": [
    {
     "name": "stdout",
     "output_type": "stream",
     "text": [
      "[[[[ 1  2]\n",
      "   [ 3  4]]\n",
      "\n",
      "  [[ 5  6]\n",
      "   [ 7  8]]]\n",
      "\n",
      "\n",
      " [[[ 9 10]\n",
      "   [11 12]]\n",
      "\n",
      "  [[13 14]\n",
      "   [15 16]]]]\n"
     ]
    },
    {
     "data": {
      "text/plain": [
       "array([[[[ 1,  2],\n",
       "         [ 5,  6]],\n",
       "\n",
       "        [[ 3,  4],\n",
       "         [ 7,  8]]],\n",
       "\n",
       "\n",
       "       [[[ 9, 10],\n",
       "         [13, 14]],\n",
       "\n",
       "        [[11, 12],\n",
       "         [15, 16]]]])"
      ]
     },
     "execution_count": null,
     "metadata": {},
     "output_type": "execute_result"
    }
   ],
   "source": [
    "A = np.array([[1, 2, 3, 4], [5, 6, 7, 8], [9, 10, 11, 12], [13, 14, 15, 16]])\n",
    "\n",
    "A = A.reshape(2, 2, 2, 2)\n",
    "print(A)\n",
    "A.swapaxes(-2, -3)"
   ]
  }
 ],
 "metadata": {
  "kernelspec": {
   "display_name": "python3",
   "language": "python",
   "name": "python3"
  }
 },
 "nbformat": 4,
 "nbformat_minor": 2
}
