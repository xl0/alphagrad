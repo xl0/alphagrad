{
 "cells": [
  {
   "cell_type": "code",
   "execution_count": null,
   "metadata": {},
   "outputs": [],
   "source": [
    "# | hide\n",
    "# | default_exp functional\n",
    "import nbdev\n",
    "from nbdev.showdoc import *\n",
    "\n",
    "nbdev.nbdev_export()"
   ]
  },
  {
   "attachments": {},
   "cell_type": "markdown",
   "metadata": {},
   "source": [
    "# 🔸 Functional operations\n"
   ]
  },
  {
   "cell_type": "code",
   "execution_count": null,
   "metadata": {},
   "outputs": [],
   "source": [
    "# | exporti\n",
    "import numpy as np\n",
    "from tidygrad.tensor import Tensor, UnaryElementwiseOp, BinaryElementwiseOp, BaseOp, ExpLog"
   ]
  },
  {
   "cell_type": "code",
   "execution_count": null,
   "metadata": {},
   "outputs": [],
   "source": [
    "# | exporti\n",
    "class Sigmoid(UnaryElementwiseOp):\n",
    "    \"\"\"Take the sigmoid of a tensor\"\"\"\n",
    "    name_template = \"sigmoid({})\"\n",
    "\n",
    "    def __init__(self, a, name=None):\n",
    "        super().__init__(a, name=name)\n",
    "        self.out = Tensor(1 / (1 + np.exp(-self.args[0].data)), name=self.name, op=self)\n",
    "\n",
    "    def backward(self):\n",
    "        with np.errstate(under=\"ignore\"):  # Triggered by infinitesimally small 1-data\n",
    "            self.parents[0].grad += self.out.grad * self.out.data * (1 - self.out.data)"
   ]
  },
  {
   "cell_type": "code",
   "execution_count": null,
   "metadata": {},
   "outputs": [],
   "source": [
    "# | export\n",
    "def sigmoid(input, name=None):\n",
    "    return Sigmoid(input, name=name).out"
   ]
  },
  {
   "cell_type": "code",
   "execution_count": null,
   "metadata": {},
   "outputs": [],
   "source": [
    "#| export\n",
    "def softmax(input, name=None):\n",
    "    exp = input.exp()\n",
    "    return exp.div(exp.sum(axis=-1, keepdims=True), name=name)"
   ]
  },
  {
   "cell_type": "code",
   "execution_count": null,
   "metadata": {},
   "outputs": [],
   "source": [
    "# | exporti\n",
    "class Relu(UnaryElementwiseOp):\n",
    "    \"\"\"Take the sigmoid of a tensor\"\"\"\n",
    "\n",
    "    name_template = \"relu({})\"\n",
    "\n",
    "    def __init__(self, a, name=None):\n",
    "        super().__init__(a, name=name)\n",
    "        self.out = Tensor(np.maximum(0, self.args[0].data), name=self.name, op=self)\n",
    "\n",
    "    def backward(self):\n",
    "        self.parents[0].grad += self.out.grad * (self.out.data > 0)"
   ]
  },
  {
   "cell_type": "code",
   "execution_count": null,
   "metadata": {},
   "outputs": [],
   "source": [
    "# | export\n",
    "def relu(input, name=None):\n",
    "    return Relu(input, name=name).out"
   ]
  },
  {
   "cell_type": "code",
   "execution_count": null,
   "metadata": {},
   "outputs": [],
   "source": [
    "# | export\n",
    "def BCE_loss(logits: Tensor, target: Tensor, reduction=\"mean\"):\n",
    "    loss = logits - logits*target + ExpLog(-logits).out\n",
    "    if reduction == \"mean\": return loss.mean()\n",
    "    if reduction == \"sum\": return loss.sum()\n",
    "    assert 0, \"Invalid reduction\""
   ]
  },
  {
   "cell_type": "code",
   "execution_count": null,
   "metadata": {},
   "outputs": [],
   "source": [
    "#| export\n",
    "\n",
    "def CrossEntropy_loss(logits: Tensor, target: Tensor, reduction=\"mean\"):\n",
    "    if not isinstance(target, Tensor): target = Tensor(target)\n",
    "    sm = softmax(logits)\n",
    "    loss = -target * sm.log()\n",
    "    if reduction == \"mean\": return loss.mean()\n",
    "    if reduction == \"sum\": return loss.sum()\n",
    "    assert 0, \"Invalid reduction\""
   ]
  },
  {
   "cell_type": "code",
   "execution_count": null,
   "metadata": {},
   "outputs": [],
   "source": [
    "# | exporti\n",
    "class Dropout(UnaryElementwiseOp):\n",
    "    \"\"\"Apply Dropout to a tensor\"\"\"\n",
    "\n",
    "    name_template = \"dropout({})\"\n",
    "\n",
    "    def __init__(self, a, p_drop=0.1, training=True, name=None):\n",
    "        super().__init__(a, name=name)\n",
    "        assert 0 < p_drop < 1, f\"p_drop must in (0, 1), got {p_drop}\"\n",
    "        self.p_drop = p_drop\n",
    "        self.training = training\n",
    "        if training:\n",
    "            # Note: We scale up the outputs during training rather than scaling down during inference.\n",
    "            scale_factor = 1 / (1-p_drop)\n",
    "            self.mask = np.random.binomial(scale_factor, 1 - p_drop, size=self.args[0].data.shape)\n",
    "            self.out = Tensor(self.args[0].data * self.mask, name=self.name, op=self)\n",
    "        else:\n",
    "            self.out = Tensor(self.args[0].data, name=self.name, op=self)\n",
    "\n",
    "    def backward(self):\n",
    "        self.parents[0].grad += self.out.grad * (self.mask if self.training else 1)"
   ]
  },
  {
   "cell_type": "code",
   "execution_count": null,
   "metadata": {},
   "outputs": [],
   "source": [
    "# | export\n",
    "def dropout(x, p=0.5, training=True):\n",
    "    if p == 0:\n",
    "        return x\n",
    "\n",
    "    return Dropout(x, p_drop=p, training=training).out"
   ]
  },
  {
   "cell_type": "markdown",
   "metadata": {},
   "source": [
    "### 🔹 Convolution"
   ]
  },
  {
   "cell_type": "code",
   "execution_count": null,
   "metadata": {},
   "outputs": [],
   "source": [
    "#| export\n",
    "\n",
    "from typing import Union, Tuple"
   ]
  },
  {
   "cell_type": "code",
   "execution_count": null,
   "metadata": {},
   "outputs": [],
   "source": [
    "# def np_pad(a: np.ndarray, padSize: Union[int, Tuple[int, int]]) -> np.ndarray:\n",
    "#     ny, nx = padSize if isinstance(padSize, tuple) else (padSize, padSize)\n",
    "#     pad_widths = [(0, 0)] * (a.ndim - 2) + [(ny, ny), (nx, nx)]\n",
    "#     return np.pad(a, pad_widths, mode=\"constant\")\n",
    "\n",
    "# def np_unpad(a: np.ndarray, padSize: Union[int, Tuple[int, int]]) -> np.ndarray:\n",
    "#     ny, nx = padSize if isinstance(padSize, tuple) else (padSize, padSize)\n",
    "#     return a[..., ny:-ny, nx:-nx]\n",
    "\n",
    "# def region_from_padded(A: np.ndarray, r: int, c: int, kernel_shape: Union[int, Tuple[int, int]]) -> np.ndarray:\n",
    "#     ky, kx = kernel_shape if isinstance(kernel_shape, tuple) else (kernel_shape, kernel_shape)\n",
    "#     slices = (slice(None),) * (A.ndim - 2) + (slice(r, r + ky), slice(c, c + kx))\n",
    "#     return A[slices]\n",
    "\n",
    "def np_pad(a: np.ndarray, pad: Tuple[int, int]) -> np.ndarray:\n",
    "    h, w = pad\n",
    "    pad_widths = [(0, 0)] * (a.ndim - 2) + [(h, h), (w, w)]\n",
    "    return np.pad(a, pad_widths, mode=\"constant\")\n",
    "\n",
    "def np_unpad(a: np.ndarray, padSize: Tuple[int, int]) -> np.ndarray:\n",
    "    h, w = padSize\n",
    "    return a[..., h:-h, w:-w]\n",
    "\n",
    "def region_from_padded(A: np.ndarray, r: int, c: int, kernel_shape: Tuple[int, int]) -> np.ndarray:\n",
    "    '''\n",
    "    pulls out a 'kernel' sized region from a padded array, centered on (r, c)\n",
    "    '''\n",
    "    ky, kx = kernel_shape\n",
    "    slices = (slice(None),) * (A.ndim - 2) + (slice(r, r + ky), slice(c, c + kx))\n",
    "    return A[slices]"
   ]
  },
  {
   "cell_type": "code",
   "execution_count": null,
   "metadata": {},
   "outputs": [],
   "source": [
    "# Updated test for np_pad\n",
    "A = np.array([[1, 2], [3, 4]])\n",
    "pad_A = np_pad(A, (1, 1))\n",
    "assert np.array_equal(pad_A, [[0, 0, 0, 0], [0, 1, 2, 0], [0, 3, 4, 0], [0, 0, 0, 0]])\n",
    "A_recovered = np_unpad(pad_A, (1, 1))\n",
    "assert np.array_equal(A, A_recovered)\n",
    "region = region_from_padded(pad_A, 0, 0, kernel_shape=(3, 3))\n",
    "assert region.shape == (3, 3) and region[1,1] == 1"
   ]
  },
  {
   "cell_type": "code",
   "execution_count": null,
   "metadata": {},
   "outputs": [],
   "source": [
    "\n",
    "#| export\n",
    "class Pad(UnaryElementwiseOp):\n",
    "    \"\"\"Pad a tensor\"\"\"\n",
    "    name_template = \"pad2d({})\"\n",
    "\n",
    "    def __init__(self, a, padding: Union[int, Tuple[int, int]], name=None):\n",
    "        super().__init__(a, name=name)\n",
    "        self.padding = (padding, padding) if isinstance(padding, int) else padding\n",
    "        self.out = Tensor(np_pad(a.data, self.padding), name=self.name, op=self)\n",
    "\n",
    "    def backward(self):\n",
    "        self.parents[0].grad += np_unpad(self.out.grad, self.padding)\n",
    "        # pY, pX = self.padding\n",
    "        # slices = (slice(None),) * (len(self.args[0].shape) - 2) \\\n",
    "        #     + (slice(pY, -pY),) + (slice(pX, -pX),)\n",
    "        # self.parents[0].grad += self.out.grad[slices]"
   ]
  },
  {
   "cell_type": "code",
   "execution_count": null,
   "metadata": {},
   "outputs": [],
   "source": [
    "from matplotlib import pyplot as plt"
   ]
  },
  {
   "cell_type": "code",
   "execution_count": null,
   "metadata": {},
   "outputs": [
    {
     "data": {
      "text/plain": [
       "<matplotlib.image.AxesImage>"
      ]
     },
     "execution_count": null,
     "metadata": {},
     "output_type": "execute_result"
    },
    {
     "data": {
      "image/png": "[encoded data removed]",
      "text/plain": [
       "<Figure size 640x480 with 1 Axes>"
      ]
     },
     "metadata": {},
     "output_type": "display_data"
    }
   ],
   "source": [
    "x = Tensor(np.random.randn(1, 1, 4, 5), name=\"x\")\n",
    "bias = Pad(x, 1).out\n",
    "\n",
    "plt.imshow(bias.data[0, 0, :, :])"
   ]
  },
  {
   "cell_type": "code",
   "execution_count": null,
   "metadata": {},
   "outputs": [],
   "source": [
    "\n",
    "def np_conv2d(padded_input:np.ndarray, kernel:np.ndarray, bias:np.ndarray):\n",
    "    batch, input_channels, input_height, input_width = padded_input.shape\n",
    "    output_channels, _input_channels, kernel_height, kernel_width = kernel.shape\n",
    "\n",
    "    assert kernel_height % 2 == 1, \"Only odd kernel sizes are supported for\"\n",
    "    assert kernel_width % 2 == 1, \"Only odd kernel sizes are supported for\"\n",
    "\n",
    "    assert input_channels == _input_channels, f\"Input channels mismatch: {input_channels} != {_input_channels}\"\n",
    "    assert bias.shape == (output_channels, ), f\"Invalid bias shape: {bias.shape}\"\n",
    "\n",
    "    output_height = input_height - kernel_height + 1\n",
    "    output_width = input_width - kernel_width + 1\n",
    "\n",
    "    y = np.zeros((batch, output_channels, output_height, output_width), dtype=padded_input.dtype)\n",
    "    for r in range(output_height):\n",
    "        for c in range(output_width):\n",
    "            region = region_from_padded(padded_input, r, c, (kernel_height, kernel_width))\n",
    "            y[:, :, r, c] = np.sum(region * kernel + bias, axis=(-1, -2))\n",
    "    return y\n",
    "\n",
    "def np_kernel_grad(padded_input:np.ndarray, kernel:np.ndarray, bias:np.ndarray, grad:np.ndarray):\n",
    "    batch, input_channels, input_height, input_width = padded_input.shape\n",
    "    output_channels, _input_channels, kernel_height, kernel_width = kernel.shape\n",
    "\n",
    "    assert kernel_height % 2 == 1, \"Only odd kernel sizes are supported for\"\n",
    "    assert kernel_width % 2 == 1, \"Only odd kernel sizes are supported for\"\n",
    "\n",
    "    assert input_channels == _input_channels, f\"Input channels mismatch: {input_channels} != {_input_channels}\"\n",
    "    assert bias.shape == (output_channels, ), f\"Invalid bias shape: {bias.shape}\"\n",
    "\n",
    "    output_height = input_height - kernel_height + 1\n",
    "    output_width = input_width - kernel_width + 1\n",
    "\n",
    "    # padded_input  # [ batch, input_channels, input_height, input_width\n",
    "    # kernel        # [ output_channels, input_channels, kernel_height, kernel_width ]\n",
    "    # grad          # [ batch, output_channels, output_height, output_width ]\n",
    "\n",
    "    assert kernel_width == kernel_height, \"Only square kernels are supported for now\"\n",
    "\n",
    "    assert grad.shape[-2:] == (output_height, output_width), f\"Invalid grad shape: {grad.shape}\"\n",
    "\n",
    "    grad_w = np.zeros_like(kernel)\n",
    "    for r in range(output_height):\n",
    "        for c in range(output_width):\n",
    "            p0 = region_from_padded(padded_input, r, c, (kernel_height, kernel_width))\n",
    "            p = padded_input[:, :, r:r + kernel_height, c:c + kernel_width]\n",
    "            assert np.allclose(p0, p)\n",
    "\n",
    "            for ch in range(0, output_channels):\n",
    "                q = grad[:, ch, r, c]\n",
    "                # q = q[:, None, None]  # <-- don't need this\n",
    "                grad_w[ch,:,:,:] += (p * q).sum(axis=0)\n",
    "\n",
    "    return grad_w"
   ]
  },
  {
   "cell_type": "markdown",
   "metadata": {},
   "source": [
    "### Relationship Between Padding, Kernel Size, and Deconvolution\n",
    "\n",
    "For a convolution operation, given:\n",
    "\n",
    "- Input size $N$\n",
    "- Kernel size $k$ (where $k \\leq N$)\n",
    "- Padding $p$ (applied symmetrically on all sides)\n",
    "\n",
    "The padded input will have a size of $N + 2p$.\n",
    "\n",
    "After applying the convolution with the kernel, the output $y$ will have a size:\n",
    "\n",
    "$$\n",
    "N_y = N + 2p - k + 1\n",
    "$$\n",
    "\n",
    "#### Back to Input Domain (Deconvolution)\n",
    "\n",
    "Before convolving back to the input domain, we apply a new padding $p'$ (unknown at this point) to $N_y$, resulting in a length of $N_y + 2p'$.\n",
    "\n",
    "After the deconvolution, we get:\n",
    "\n",
    "$$\n",
    "(N_y + 2p') - k + 1 = N + 2p - k + 1 + 2p' - k + 1\n",
    "$$\n",
    "\n",
    "Simplifying, we find:\n",
    "\n",
    "$$\n",
    "N + 2(p + p') - 2k + 2 = N\n",
    "2(p + p') - 2k + 2 = 0\n",
    "p + p' = k - 1\n",
    "p' = k - p - 1\n",
    "$$\n",
    "\n",
    "This equation gives us the value of $p'$ required to get back to the input domain size $N$ after deconvolution.\n",
    "\n",
    "---"
   ]
  },
  {
   "cell_type": "code",
   "execution_count": null,
   "metadata": {},
   "outputs": [],
   "source": [
    "class Conv2D(BaseOp):\n",
    "    def __init__(self, input, kernel, bias, stride=1, padding=0, name=None):\n",
    "        super().__init__(input, kernel, bias, name=name)\n",
    "        self.stride = stride\n",
    "        assert stride == 1, \"Only stride=1 is supported for now\"\n",
    "        # assert padding == 1, \"Only padding=1 is supported for now\"\n",
    "\n",
    "        # self.padding = ((kernel.data.shape[-2] - 1) // 2, (kernel.data.shape[-1] - 1) // 2)  \\\n",
    "        #     if padding is None else (padding, padding) if isinstance(padding, int) else padding\n",
    "        self.padding = (padding, padding) if isinstance(padding, int) else padding\n",
    "\n",
    "        self.parents = [*self.args]\n",
    "\n",
    "        self.input_data_padded = np_pad(self.args[0].data, self.padding)\n",
    "\n",
    "        data = np_conv2d(self.input_data_padded, kernel.data, bias.data)\n",
    "\n",
    "        self.out = Tensor(data, name=self.name, op=self)\n",
    "\n",
    "    def backward(self):\n",
    "        rot180 = lambda x: np.rot90(x, 2)\n",
    "\n",
    "        input_, kernel, bias = self.args\n",
    "        grad = self.out.grad\n",
    "\n",
    "        pad_h = kernel.data.shape[-2] - self.padding[0] - 1\n",
    "        pad_w = kernel.data.shape[-1] - self.padding[1] - 1\n",
    "        padded_grad = np_pad(grad, (pad_h, pad_w))\n",
    "\n",
    "        input_.grad += np_conv2d(padded_grad, rot180(kernel.data), np.zeros_like(bias.data))\n",
    "\n",
    "        kernel.grad += np_kernel_grad(self.input_data_padded, kernel.data, bias.data, grad)"
   ]
  },
  {
   "cell_type": "code",
   "execution_count": null,
   "metadata": {},
   "outputs": [],
   "source": [
    "from tidygrad.utils.grad_check import grad_check"
   ]
  },
  {
   "cell_type": "code",
   "execution_count": null,
   "metadata": {},
   "outputs": [
    {
     "name": "stdout",
     "output_type": "stream",
     "text": [
      "Max gradient difference for w: 0.0000%\n",
      "Max gradient difference for x: 0.0000%\n"
     ]
    }
   ],
   "source": [
    "x = Tensor(np.eye(5)[None, None], \"x\")\n",
    "kernel = Tensor(np.eye(3).reshape(1, 1, 3, 3), \"w\")\n",
    "bias = Tensor(np.zeros((1, )), \"b\")\n",
    "\n",
    "# conv = Conv2D(x, kernel, bias, padding=1).out\n",
    "# loss = conv.mean()\n",
    "# loss.backward()\n",
    "\n",
    "def func(inputs, params):\n",
    "    x, kernel = params\n",
    "    bias = Tensor(np.zeros((1,)), \"b\")\n",
    "    return Conv2D(x, kernel, bias).out.mean()\n",
    "\n",
    "func(None, (x, kernel)).backward()\n",
    "\n",
    "grad_check(func, None, (x,kernel))"
   ]
  },
  {
   "cell_type": "code",
   "execution_count": null,
   "metadata": {},
   "outputs": [],
   "source": [
    "from tidygrad.utils.datasets import MNIST"
   ]
  },
  {
   "cell_type": "code",
   "execution_count": null,
   "metadata": {},
   "outputs": [
    {
     "data": {
      "image/png": "[encoded data removed]",
      "text/plain": [
       "<Figure size 640x480 with 1 Axes>"
      ]
     },
     "metadata": {},
     "output_type": "display_data"
    },
    {
     "data": {
      "text/plain": [
       "<matplotlib.image.AxesImage>"
      ]
     },
     "execution_count": null,
     "metadata": {},
     "output_type": "execute_result"
    },
    {
     "data": {
      "image/png": "[encoded data removed]",
      "text/plain": [
       "<Figure size 640x480 with 1 Axes>"
      ]
     },
     "metadata": {},
     "output_type": "display_data"
    }
   ],
   "source": [
    "\n",
    "mnist = MNIST()\n",
    "\n",
    "x = Tensor(mnist[1][0][None][None], \"x\")\n",
    "plt.show(plt.imshow(x.data[0, 0]))\n",
    "\n",
    "conv = Conv2D(x, kernel, bias, padding=1).out\n",
    "conv = Conv2D(conv, kernel, bias, padding=1).out\n",
    "conv = Conv2D(conv, kernel, bias, padding=1).out\n",
    "plt.imshow(conv.data[0, 0, :, :])"
   ]
  },
  {
   "cell_type": "code",
   "execution_count": null,
   "metadata": {},
   "outputs": [],
   "source": []
  }
 ],
 "metadata": {
  "kernelspec": {
   "display_name": "python3",
   "language": "python",
   "name": "python3"
  }
 },
 "nbformat": 4,
 "nbformat_minor": 2
}
