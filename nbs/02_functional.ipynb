{
 "cells": [
  {
   "cell_type": "code",
   "execution_count": null,
   "metadata": {},
   "outputs": [],
   "source": [
    "# | hide\n",
    "# | default_exp functional\n",
    "import nbdev\n",
    "from nbdev.showdoc import *\n",
    "\n",
    "nbdev.nbdev_export()"
   ]
  },
  {
   "attachments": {},
   "cell_type": "markdown",
   "metadata": {},
   "source": [
    "### Functional operations\n"
   ]
  },
  {
   "cell_type": "code",
   "execution_count": null,
   "metadata": {},
   "outputs": [],
   "source": [
    "# | exporti\n",
    "import numpy as np\n",
    "from tidygrad.tensor import Tensor, UnaryElementwiseOp, BinaryElementwiseOp, BaseOp, ExpLog"
   ]
  },
  {
   "cell_type": "code",
   "execution_count": null,
   "metadata": {},
   "outputs": [],
   "source": [
    "# | exporti\n",
    "class Sigmoid(UnaryElementwiseOp):\n",
    "    \"\"\"Take the sigmoid of a tensor\"\"\"\n",
    "    name_template = \"sigmoid({})\"\n",
    "\n",
    "    def __init__(self, a, name=None):\n",
    "        super().__init__(a, name=name)\n",
    "        self.out = Tensor(1 / (1 + np.exp(-self.args[0].data)), name=self.name, op=self)\n",
    "\n",
    "    def backward(self):\n",
    "        with np.errstate(under=\"ignore\"):  # Triggered by infinitesimally small 1-data\n",
    "            self.parents[0].grad += self.out.grad * self.out.data * (1 - self.out.data)"
   ]
  },
  {
   "cell_type": "code",
   "execution_count": null,
   "metadata": {},
   "outputs": [],
   "source": [
    "# | export\n",
    "def sigmoid(input, name=None):\n",
    "    return Sigmoid(input, name=name).out"
   ]
  },
  {
   "cell_type": "code",
   "execution_count": null,
   "metadata": {},
   "outputs": [],
   "source": [
    "#| export\n",
    "def softmax(input, name=None):\n",
    "    exp = input.exp()\n",
    "    return exp.div(exp.sum(axis=-1, keepdims=True), name=name)"
   ]
  },
  {
   "cell_type": "code",
   "execution_count": null,
   "metadata": {},
   "outputs": [],
   "source": [
    "# | exporti\n",
    "class Relu(UnaryElementwiseOp):\n",
    "    \"\"\"Take the sigmoid of a tensor\"\"\"\n",
    "\n",
    "    name_template = \"relu({})\"\n",
    "\n",
    "    def __init__(self, a, name=None):\n",
    "        super().__init__(a, name=name)\n",
    "        self.out = Tensor(np.maximum(0, self.args[0].data), name=self.name, op=self)\n",
    "\n",
    "    def backward(self):\n",
    "        self.parents[0].grad += self.out.grad * (self.out.data > 0)"
   ]
  },
  {
   "cell_type": "code",
   "execution_count": null,
   "metadata": {},
   "outputs": [],
   "source": [
    "# | export\n",
    "def relu(input, name=None):\n",
    "    return Relu(input, name=name).out"
   ]
  },
  {
   "cell_type": "code",
   "execution_count": null,
   "metadata": {},
   "outputs": [],
   "source": [
    "# | export\n",
    "def BCE_loss(logits: Tensor, target: Tensor, reduction=\"mean\"):\n",
    "    loss = logits - logits*target + ExpLog(-logits).out\n",
    "    if reduction == \"mean\": return loss.mean()\n",
    "    if reduction == \"sum\": return loss.sum()\n",
    "    assert 0, \"Invalid reduction\""
   ]
  },
  {
   "cell_type": "code",
   "execution_count": null,
   "metadata": {},
   "outputs": [],
   "source": [
    "#| export\n",
    "\n",
    "def CrossEntropy_loss(logits: Tensor, target: Tensor, reduction=\"mean\"):\n",
    "    if not isinstance(target, Tensor): target = Tensor(target)\n",
    "    sm = softmax(logits)\n",
    "    loss = -target * sm.log()\n",
    "    if reduction == \"mean\": return loss.mean()\n",
    "    if reduction == \"sum\": return loss.sum()\n",
    "    assert 0, \"Invalid reduction\""
   ]
  },
  {
   "cell_type": "code",
   "execution_count": null,
   "metadata": {},
   "outputs": [],
   "source": [
    "# | exporti\n",
    "class Dropout(UnaryElementwiseOp):\n",
    "    \"\"\"Apply Dropout to a tensor\"\"\"\n",
    "\n",
    "    name_template = \"dropout({})\"\n",
    "\n",
    "    def __init__(self, a, p_drop=0.1, training=True, name=None):\n",
    "        super().__init__(a, name=name)\n",
    "        assert 0 < p_drop < 1, f\"p_drop must in (0, 1), got {p_drop}\"\n",
    "        self.p_drop = p_drop\n",
    "        self.training = training\n",
    "        if training:\n",
    "            # Note: We scale up the outputs during training rather than scaling down during inference.\n",
    "            scale_factor = 1 / (1-p_drop)\n",
    "            self.mask = np.random.binomial(scale_factor, 1 - p_drop, size=self.args[0].data.shape)\n",
    "            self.out = Tensor(self.args[0].data * self.mask, name=self.name, op=self)\n",
    "        else:\n",
    "            self.out = Tensor(self.args[0].data, name=self.name, op=self)\n",
    "\n",
    "    def backward(self):\n",
    "        self.parents[0].grad += self.out.grad * (self.mask if self.training else 1)"
   ]
  },
  {
   "cell_type": "code",
   "execution_count": null,
   "metadata": {},
   "outputs": [],
   "source": [
    "# | export\n",
    "def dropout(x, p=0.5, training=True):\n",
    "    if p == 0:\n",
    "        return x\n",
    "\n",
    "    return Dropout(x, p_drop=p, training=training).out"
   ]
  },
  {
   "cell_type": "code",
   "execution_count": null,
   "metadata": {},
   "outputs": [],
   "source": [
    "def np_pad(a: np.ndarray, padSize:int):\n",
    "    kernelY, kernelX = padSize if isinstance(padSize, tuple) else (padSize, padSize)\n",
    "    pad_widths = [(0, 0)] * (len(a.shape) - 2) + [(kernelY, kernelY), (kernelX, kernelX)]\n",
    "    return np.pad(a, pad_widths, mode=\"constant\")"
   ]
  },
  {
   "cell_type": "code",
   "execution_count": null,
   "metadata": {},
   "outputs": [],
   "source": [
    "#| export\n",
    "class Pad(UnaryElementwiseOp):\n",
    "    \"\"\"Pad a tensor\"\"\"\n",
    "    name_template = \"pad2d({})\"\n",
    "    \n",
    "    def __init__(self, a, padSize: int, name=None):\n",
    "        super().__init__(a, name=name)\n",
    "        self.padSize = (padSize, padSize) if isinstance(padSize, int) else padSize\n",
    "        self.out = Tensor(np_pad(a.data, self.padSize), name=self.name, op=self)\n",
    "\n",
    "    def backward(self):\n",
    "        pY, pX = self.padSize\n",
    "        slices = (slice(None),) * (len(self.args[0].shape) - 2) \\\n",
    "            + (slice(pY, -pY),) + (slice(pX, -pX),)\n",
    "        self.parents[0].grad += self.out.grad[slices]"
   ]
  },
  {
   "cell_type": "code",
   "execution_count": null,
   "metadata": {},
   "outputs": [],
   "source": [
    "from matplotlib import pyplot as plt"
   ]
  },
  {
   "cell_type": "code",
   "execution_count": null,
   "metadata": {},
   "outputs": [
    {
     "data": {
      "text/plain": [
       "<matplotlib.image.AxesImage>"
      ]
     },
     "execution_count": null,
     "metadata": {},
     "output_type": "execute_result"
    },
    {
     "data": {
      "image/png": "[encoded data removed]",
      "text/plain": [
       "<Figure size 640x480 with 1 Axes>"
      ]
     },
     "metadata": {},
     "output_type": "display_data"
    }
   ],
   "source": [
    "padded_input = Tensor(np.random.randn(1, 1, 4, 5), name=\"x\")\n",
    "bias = Pad(padded_input, 1).out\n",
    "\n",
    "plt.imshow(bias.data[0, 0, :, :])"
   ]
  },
  {
   "cell_type": "code",
   "execution_count": null,
   "metadata": {},
   "outputs": [],
   "source": [
    "def slice_on(r, c, kernelSize, template=None, nDims=None):\n",
    "    kernelY, kernelX = kernelSize if isinstance(kernelSize, tuple) else (kernelSize, kernelSize)\n",
    "    nDims = nDims or len(template.shape)\n",
    "    return (slice(None),) * (nDims - 2) + (slice(r, r+kernelY), slice(c, c+kernelX))\n",
    "\n",
    "def np_conv2d(a_padded:np.ndarray, w:np.ndarray, b:np.ndarray):\n",
    "    batch, input_channels, input_height, input_width = a_padded.shape\n",
    "    output_channels, _input_channels, kernel_height, kernel_width = w.shape\n",
    "\n",
    "    assert kernel_height % 2 == 1, \"Only odd kernel sizes are supported for\"\n",
    "    assert kernel_width % 2 == 1, \"Only odd kernel sizes are supported for\"\n",
    "\n",
    "    assert input_channels == _input_channels, f\"Input channels mismatch: {input_channels} != {_input_channels}\"\n",
    "    assert b.shape == (output_channels, ), f\"Invalid bias shape: {b.shape}\"\n",
    "\n",
    "    output_height = input_height - kernel_height + 1\n",
    "    output_width = input_width - kernel_width + 1\n",
    "\n",
    "    data = np.zeros((batch, output_channels, output_height, output_width), dtype=a_padded.dtype)\n",
    "    for r in range(0, output_height):\n",
    "        for c in range(0, output_width):\n",
    "            square = a_padded[slice_on(r, c, (kernel_height, kernel_width), template=a_padded)]\n",
    "            m = square * w + b\n",
    "            s = np.sum(m, axis=(-1, -2))\n",
    "            data[:, :, r, c] = s\n",
    "    return data\n",
    "\n",
    "def np_kernel_grad(padded_input:np.ndarray, kernel:np.ndarray, bias:np.ndarray, grad:np.ndarray):\n",
    "    batch, input_channels, input_height, input_width = padded_input.shape\n",
    "    output_channels, _input_channels, kernel_height, kernel_width = kernel.shape\n",
    "\n",
    "    assert kernel_height % 2 == 1, \"Only odd kernel sizes are supported for\"\n",
    "    assert kernel_width % 2 == 1, \"Only odd kernel sizes are supported for\"\n",
    "\n",
    "    assert input_channels == _input_channels, f\"Input channels mismatch: {input_channels} != {_input_channels}\"\n",
    "    assert bias.shape == (output_channels, ), f\"Invalid bias shape: {bias.shape}\"\n",
    "\n",
    "    output_height = input_height - kernel_height + 1\n",
    "    output_width = input_width - kernel_width + 1\n",
    "\n",
    "    # W      # [ output_channels, input_channels, kernel_height, kernel_width ]\n",
    "    # a      # [ batch, input_channels, input_height, input_width\n",
    "    # grad   # [ batch, output_channels, output_height, output_width ]\n",
    "\n",
    "    assert kernel_width == kernel_height, \"Only square kernels are supported for now\"\n",
    "\n",
    "    assert grad.shape[-2:] == (output_height, output_width), f\"Invalid grad shape: {grad.shape}\"\n",
    "\n",
    "    grad_w = np.zeros_like(kernel)\n",
    "    for r in range(0, output_height):\n",
    "        for c in range(0, output_width):\n",
    "            p0 = padded_input[slice_on(r, c, (kernel_height, kernel_width), template=padded_input)]\n",
    "            p = padded_input[:, :, r:r + kernel_height, c:c + kernel_width]\n",
    "            assert np.allclose(p0, p)\n",
    "\n",
    "            for ch in range(0, output_channels):\n",
    "                q = grad[:, ch, r, c]\n",
    "                # q = q[:, None, None]  # <-- don't need this\n",
    "                grad_w[ch,:,:,:] += (p * q).sum(axis=0)\n",
    "\n",
    "    return grad_w"
   ]
  },
  {
   "cell_type": "code",
   "execution_count": null,
   "metadata": {},
   "outputs": [],
   "source": [
    "class Conv2D(BaseOp):\n",
    "    def __init__(self, input, kernel, bias, stride=1, padding=0, name=None):\n",
    "        super().__init__(input, kernel, bias, name=name)\n",
    "        self.stride = stride\n",
    "        assert stride == 1, \"Only stride=1 is supported for now\"\n",
    "        assert padding == 1, \"Only padding=1 is supported for now\"\n",
    "        self.padding = padding\n",
    "        self.parents = [*self.args]\n",
    "\n",
    "        input_data_padded = np_pad(self.args[0].data, padding)  # 1x1x7x7\n",
    "\n",
    "        data = np_conv2d(input_data_padded, kernel.data, bias.data)\n",
    "\n",
    "        self.out = Tensor(data, name=self.name, op=self)\n",
    "\n",
    "    def backward(self):\n",
    "        input_, kernel, bias = self.args\n",
    "        grad = self.out.grad\n",
    "        padded_grad = np_pad(grad, 1)   # XXX\n",
    "        padded_input = np_pad(input_.data, 1)\n",
    "        print(padded_grad)\n",
    "        t = np_conv2d(padded_grad, np.rot90(kernel.data, 2), np.zeros_like(bias.data))\n",
    "        input_.grad += t\n",
    "        kernel.grad += np_kernel_grad(padded_input, kernel.data, bias.data, grad)"
   ]
  },
  {
   "cell_type": "code",
   "execution_count": null,
   "metadata": {},
   "outputs": [],
   "source": [
    "from tidygrad.utils.grad_check import grad_check"
   ]
  },
  {
   "cell_type": "code",
   "execution_count": null,
   "metadata": {},
   "outputs": [
    {
     "name": "stdout",
     "output_type": "stream",
     "text": [
      "[[[[0.   0.   0.   0.   0.   0.   0.  ]\n",
      "   [0.   0.04 0.04 0.04 0.04 0.04 0.  ]\n",
      "   [0.   0.04 0.04 0.04 0.04 0.04 0.  ]\n",
      "   [0.   0.04 0.04 0.04 0.04 0.04 0.  ]\n",
      "   [0.   0.04 0.04 0.04 0.04 0.04 0.  ]\n",
      "   [0.   0.04 0.04 0.04 0.04 0.04 0.  ]\n",
      "   [0.   0.   0.   0.   0.   0.   0.  ]]]]\n",
      "GRAD CHECK\n",
      "6: loss_plus_h: 0.20000120000000002, loss: 0.2, diff: 1.2000000000067512e-06, grad: 0.11999999731779099, slow_grad: 0.11999999731779099, delta=0.0\n",
      "5: loss_plus_h: 0.2000016, loss: 0.2, diff: 1.599999999990498e-06, grad: 0.1599999964237213, slow_grad: 0.1599999964237213, delta=0.0\n",
      "7: loss_plus_h: 0.2000016, loss: 0.2, diff: 1.599999999990498e-06, grad: 0.1599999964237213, slow_grad: 0.1599999964237213, delta=0.0\n",
      "1: loss_plus_h: 0.2000016, loss: 0.2, diff: 1.599999999990498e-06, grad: 0.1599999964237213, slow_grad: 0.1599999964237213, delta=0.0\n",
      "8: loss_plus_h: 0.2000016, loss: 0.2, diff: 1.599999999990498e-06, grad: 0.1599999964237213, slow_grad: 0.1599999964237213, delta=0.0\n",
      "4: loss_plus_h: 0.20000199999999999, loss: 0.2, diff: 1.9999999999742446e-06, grad: 0.19999998807907104, slow_grad: 0.20000000298023224, delta=1.4901161193847656e-08\n",
      "3: loss_plus_h: 0.2000016, loss: 0.2, diff: 1.599999999990498e-06, grad: 0.1599999964237213, slow_grad: 0.1599999964237213, delta=0.0\n",
      "2: loss_plus_h: 0.20000120000000002, loss: 0.2, diff: 1.2000000000067512e-06, grad: 0.11999999731779099, slow_grad: 0.11999999731779099, delta=0.0\n",
      "0: loss_plus_h: 0.2000016, loss: 0.2, diff: 1.599999999990498e-06, grad: 0.1599999964237213, slow_grad: 0.1599999964237213, delta=0.0\n",
      "Max gradient difference for w: 0.0000%\n",
      "6: loss_plus_h: 0.2000004, loss: 0.2, diff: 3.999999999837467e-07, grad: 0.03999999910593033, slow_grad: 0.03999999910593033, delta=0.0\n",
      "0: loss_plus_h: 0.2000004, loss: 0.2, diff: 3.999999999837467e-07, grad: 0.03999999910593033, slow_grad: 0.03999999910593033, delta=0.0\n",
      "2: loss_plus_h: 0.2000004, loss: 0.2, diff: 3.999999999837467e-07, grad: 0.03999999910593033, slow_grad: 0.03999999910593033, delta=0.0\n",
      "18: loss_plus_h: 0.2000004, loss: 0.2, diff: 3.999999999837467e-07, grad: 0.03999999910593033, slow_grad: 0.03999999910593033, delta=0.0\n",
      "16: loss_plus_h: 0.2000004, loss: 0.2, diff: 3.999999999837467e-07, grad: 0.03999999910593033, slow_grad: 0.03999999910593033, delta=0.0\n",
      "11: loss_plus_h: 0.2000004, loss: 0.2, diff: 3.999999999837467e-07, grad: 0.03999999910593033, slow_grad: 0.03999999910593033, delta=0.0\n",
      "17: loss_plus_h: 0.2000004, loss: 0.2, diff: 3.999999999837467e-07, grad: 0.03999999910593033, slow_grad: 0.03999999910593033, delta=0.0\n",
      "3: loss_plus_h: 0.2000004, loss: 0.2, diff: 3.999999999837467e-07, grad: 0.03999999910593033, slow_grad: 0.03999999910593033, delta=0.0\n",
      "19: loss_plus_h: 0.2000004, loss: 0.2, diff: 3.999999999837467e-07, grad: 0.03999999910593033, slow_grad: 0.03999999910593033, delta=0.0\n",
      "8: loss_plus_h: 0.2000004, loss: 0.2, diff: 3.999999999837467e-07, grad: 0.03999999910593033, slow_grad: 0.03999999910593033, delta=0.0\n",
      "22: loss_plus_h: 0.2000004, loss: 0.2, diff: 3.999999999837467e-07, grad: 0.03999999910593033, slow_grad: 0.03999999910593033, delta=0.0\n",
      "1: loss_plus_h: 0.2000004, loss: 0.2, diff: 3.999999999837467e-07, grad: 0.03999999910593033, slow_grad: 0.03999999910593033, delta=0.0\n",
      "4: loss_plus_h: 0.2000004, loss: 0.2, diff: 3.999999999837467e-07, grad: 0.03999999910593033, slow_grad: 0.03999999910593033, delta=0.0\n",
      "23: loss_plus_h: 0.2000004, loss: 0.2, diff: 3.999999999837467e-07, grad: 0.03999999910593033, slow_grad: 0.03999999910593033, delta=0.0\n",
      "7: loss_plus_h: 0.2000004, loss: 0.2, diff: 3.999999999837467e-07, grad: 0.03999999910593033, slow_grad: 0.03999999910593033, delta=0.0\n",
      "20: loss_plus_h: 0.2000004, loss: 0.2, diff: 3.999999999837467e-07, grad: 0.03999999910593033, slow_grad: 0.03999999910593033, delta=0.0\n",
      "24: loss_plus_h: 0.2000004, loss: 0.2, diff: 3.999999999837467e-07, grad: 0.03999999910593033, slow_grad: 0.03999999910593033, delta=0.0\n",
      "5: loss_plus_h: 0.2000004, loss: 0.2, diff: 3.999999999837467e-07, grad: 0.03999999910593033, slow_grad: 0.03999999910593033, delta=0.0\n",
      "13: loss_plus_h: 0.2000004, loss: 0.2, diff: 3.999999999837467e-07, grad: 0.03999999910593033, slow_grad: 0.03999999910593033, delta=0.0\n",
      "10: loss_plus_h: 0.2000004, loss: 0.2, diff: 3.999999999837467e-07, grad: 0.03999999910593033, slow_grad: 0.03999999910593033, delta=0.0\n",
      "15: loss_plus_h: 0.2000004, loss: 0.2, diff: 3.999999999837467e-07, grad: 0.03999999910593033, slow_grad: 0.03999999910593033, delta=0.0\n",
      "21: loss_plus_h: 0.2000004, loss: 0.2, diff: 3.999999999837467e-07, grad: 0.03999999910593033, slow_grad: 0.03999999910593033, delta=0.0\n",
      "14: loss_plus_h: 0.2000004, loss: 0.2, diff: 3.999999999837467e-07, grad: 0.03999999910593033, slow_grad: 0.03999999910593033, delta=0.0\n",
      "9: loss_plus_h: 0.2000004, loss: 0.2, diff: 3.999999999837467e-07, grad: 0.03999999910593033, slow_grad: 0.03999999910593033, delta=0.0\n",
      "12: loss_plus_h: 0.2000004, loss: 0.2, diff: 3.999999999837467e-07, grad: 0.03999999910593033, slow_grad: 0.03999999910593033, delta=0.0\n",
      "Max gradient difference for x: 0.0000%\n"
     ]
    }
   ],
   "source": [
    "x = Tensor(np.eye(5, 5)[None, None], \"x\")\n",
    "kernel = np.array( [[0.,0,0],\n",
    "                    [0,1,0],\n",
    "                    [0,0,0]]\n",
    "                ).reshape(1, 1, 3, 3)\n",
    "kernel = Tensor(kernel, \"w\")\n",
    "\n",
    "bias = Tensor(np.zeros((1, )), \"b\")\n",
    "\n",
    "# conv = Conv2D(x, kernel, bias, padding=1).out\n",
    "# loss = conv.mean()\n",
    "# loss.backward()\n",
    "\n",
    "def func(inputs, params):\n",
    "    x = params[0]\n",
    "    kernel = params[1]\n",
    "    # kernel = np.array( [[1., 2, 1],\n",
    "    #                 [2, 4, 2],\n",
    "    #                 [1, 2, 1]]\n",
    "    #             ).reshape(1, 1, 3, 3)\n",
    "    bias = Tensor(np.zeros((1, )), \"b\")\n",
    "    return Conv2D(x, kernel, bias, padding=1).out.mean()\n",
    "\n",
    "func(None, (x, kernel)).backward()\n",
    "\n",
    "grad_check(func, None, (x,kernel))"
   ]
  },
  {
   "cell_type": "code",
   "execution_count": null,
   "metadata": {},
   "outputs": [],
   "source": [
    "from tidygrad.utils.datasets import MNIST\n"
   ]
  },
  {
   "cell_type": "code",
   "execution_count": null,
   "metadata": {},
   "outputs": [
    {
     "data": {
      "image/png": "[encoded data removed]",
      "text/plain": [
       "<Figure size 640x480 with 1 Axes>"
      ]
     },
     "metadata": {},
     "output_type": "display_data"
    },
    {
     "data": {
      "text/plain": [
       "<matplotlib.image.AxesImage>"
      ]
     },
     "execution_count": null,
     "metadata": {},
     "output_type": "execute_result"
    },
    {
     "data": {
      "image/png": "[encoded data removed]",
      "text/plain": [
       "<Figure size 640x480 with 1 Axes>"
      ]
     },
     "metadata": {},
     "output_type": "display_data"
    }
   ],
   "source": [
    "\n",
    "mnist = MNIST()\n",
    "\n",
    "x = Tensor(mnist[1][0][None][None], \"x\")\n",
    "plt.show(plt.imshow(x.data[0, 0]))\n",
    "\n",
    "conv = Conv2D(x, kernel, bias, padding=1).out\n",
    "conv = Conv2D(conv, kernel, bias, padding=1).out\n",
    "conv = Conv2D(conv, kernel, bias, padding=1).out\n",
    "plt.imshow(conv.data[0, 0, :, :])"
   ]
  },
  {
   "cell_type": "code",
   "execution_count": null,
   "metadata": {},
   "outputs": [],
   "source": []
  }
 ],
 "metadata": {
  "kernelspec": {
   "display_name": "python3",
   "language": "python",
   "name": "python3"
  }
 },
 "nbformat": 4,
 "nbformat_minor": 2
}
