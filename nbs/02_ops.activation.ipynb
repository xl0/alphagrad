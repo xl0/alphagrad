{
 "cells": [
  {
   "cell_type": "code",
   "execution_count": null,
   "metadata": {},
   "outputs": [],
   "source": [
    "# | hide\n",
    "# | default_exp ops.activation\n",
    "import nbdev\n",
    "from nbdev.showdoc import *\n",
    "\n",
    "nbdev.nbdev_export()"
   ]
  },
  {
   "cell_type": "markdown",
   "metadata": {},
   "source": [
    "# Functional operations: Activation functions\n"
   ]
  },
  {
   "cell_type": "code",
   "execution_count": null,
   "metadata": {},
   "outputs": [],
   "source": [
    "# | exporti\n",
    "\n",
    "import numpy as np\n",
    "from tidygrad.ops import UnaryElementwiseOp"
   ]
  },
  {
   "cell_type": "code",
   "execution_count": null,
   "metadata": {},
   "outputs": [],
   "source": [
    "# | export\n",
    "class Relu(UnaryElementwiseOp):\n",
    "    \"\"\"Take the sigmoid of a tensor\"\"\"\n",
    "\n",
    "    name_template = \"relu({})\"\n",
    "\n",
    "    def __init__(self, a, name=None):\n",
    "        super().__init__(a, name=name)\n",
    "        # self.out = Tensor(np.maximum(0, self.args[0].data), name=self.name, op=self)\n",
    "        self.set_out(np.maximum(0, self.args[0].data))\n",
    "\n",
    "    def backward(self):\n",
    "        self.check_backward()\n",
    "        self.parents[0].grad += self.out.grad * (self.out.data > 0)"
   ]
  },
  {
   "cell_type": "code",
   "execution_count": null,
   "metadata": {},
   "outputs": [],
   "source": [
    "# | export\n",
    "class Sigmoid(UnaryElementwiseOp):\n",
    "    \"\"\"Take the sigmoid of a tensor\"\"\"\n",
    "\n",
    "    name_template = \"sigmoid({})\"\n",
    "\n",
    "    def __init__(self, a, name=None):\n",
    "        super().__init__(a, name=name)\n",
    "        self.set_out(1 / (1 + np.exp(-self.args[0].data)))\n",
    "\n",
    "    def backward(self):\n",
    "        self.check_backward()\n",
    "        with np.errstate(under=\"ignore\"):  # Triggered by infinitesimally small 1-data\n",
    "            self.parents[0].accum_grad(self.out.grad * self.out.data * (1 - self.out.data))"
   ]
  },
  {
   "cell_type": "code",
   "execution_count": null,
   "metadata": {},
   "outputs": [],
   "source": [
    "## | export\n",
    "\n",
    "# XXX This is numerically unstable. Fix it.\n",
    "\n",
    "class Tanh(UnaryElementwiseOp):\n",
    "    \"\"\"Take the tanh of a tensor\"\"\"\n",
    "\n",
    "    name_template = \"tanh({})\"\n",
    "\n",
    "    def __init__(self, a, name=None):\n",
    "        assert 1, \"XXX Fix me first\"\n",
    "        super().__init__(a, name=name)\n",
    "        ex = np.exp(self.args[0].data)\n",
    "        emx = np.exp(-self.args[0].data)\n",
    "        self.set_out((ex-emx) / (ex+emx))\n",
    "\n",
    "    def backward(self):\n",
    "        self.check_backward()\n",
    "        with np.errstate(under=\"ignore\"):  # Triggered by infinitesimally small 1-data\n",
    "            self.parents[0].accum_grad(self.out.grad * (1 - self.out.data**2))"
   ]
  }
 ],
 "metadata": {
  "kernelspec": {
   "display_name": "python3",
   "language": "python",
   "name": "python3"
  }
 },
 "nbformat": 4,
 "nbformat_minor": 2
}
