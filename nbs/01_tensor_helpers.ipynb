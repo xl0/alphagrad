{
 "cells": [
  {
   "cell_type": "code",
   "execution_count": null,
   "metadata": {},
   "outputs": [],
   "source": [
    "# | hide\n",
    "# | default_exp tensor_helpers\n",
    "import nbdev\n",
    "from nbdev.showdoc import *\n",
    "\n",
    "nbdev.nbdev_export()"
   ]
  },
  {
   "cell_type": "markdown",
   "metadata": {},
   "source": [
    "# Tensor class\n"
   ]
  },
  {
   "cell_type": "code",
   "execution_count": null,
   "metadata": {},
   "outputs": [],
   "source": [
    "# | export\n",
    "import numpy as np\n",
    "import tidygrad.ops as ops"
   ]
  },
  {
   "cell_type": "code",
   "execution_count": null,
   "metadata": {},
   "outputs": [],
   "source": [
    "# | export\n",
    "\n",
    "class Tensor:\n",
    "    pass\n",
    "\n",
    "def mean(input: Tensor, name=None, axis=None, keepdims=False) -> Tensor:\n",
    "    reduced = np.prod(input.data.shape)\n",
    "    if isinstance(axis, int):\n",
    "        axis = (axis, )\n",
    "    if axis:\n",
    "        reduced = np.prod([input.data.shape[i] for i in axis])\n",
    "    return ops.Sum(input, name=name, axis=axis, keepdims=keepdims).out / reduced\n",
    "\n",
    "def std(input: Tensor, name=None, axis=None, keepdims=False, correction=1) -> Tensor:\n",
    "    if isinstance(axis, int): axis = (axis, )\n",
    "    v1 = input - input.mean(axis=axis, keepdims=True)\n",
    "    var = v1 ** 2\n",
    "\n",
    "    if axis is None: numel = np.prod(input.data.shape)\n",
    "    else: numel = np.prod([input.data.shape[i] for i in axis])\n",
    "    assert numel > correction, \"Cannot compute std of a single value\"\n",
    "\n",
    "    res = (var.sum(axis=axis, keepdims=keepdims) / (numel-correction)).pow(0.5)\n",
    "    if name is not None: res.name = name\n",
    "    return res\n",
    "\n",
    "def split(t: Tensor, n: int, axis: int):\n",
    "    step = t.shape[axis] // n\n",
    "    assert step * n == t.shape[axis], \"Can't split tensor evenly\"\n",
    "\n",
    "    chunks = []\n",
    "\n",
    "    key = [slice(None)] * len(t.shape)\n",
    "    for i in range(n):\n",
    "        start = i * step\n",
    "        end = (i + 1) * step\n",
    "        key[axis] = slice(start, end)\n",
    "        chunks.append(t[tuple(key)])\n",
    "\n",
    "    return chunks"
   ]
  }
 ],
 "metadata": {
  "kernelspec": {
   "display_name": "python3",
   "language": "python",
   "name": "python3"
  }
 },
 "nbformat": 4,
 "nbformat_minor": 2
}
