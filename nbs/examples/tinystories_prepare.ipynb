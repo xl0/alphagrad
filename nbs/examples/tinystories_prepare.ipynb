{
 "cells": [
  {
   "cell_type": "raw",
   "metadata": {},
   "source": [
    "---\n",
    "skip_exec: true\n",
    "---"
   ]
  },
  {
   "cell_type": "markdown",
   "metadata": {},
   "source": [
    "# TinyStories dataset pre-processing.\n"
   ]
  },
  {
   "cell_type": "code",
   "execution_count": null,
   "metadata": {},
   "outputs": [],
   "source": [
    "# Download and extract the TinyStories dataset\n",
    "\n",
    "# !wget -c https://huggingface.co/datasets/roneneldan/TinyStories/raw/main/TinyStories_all_data.tar.gz -O datasets/TinyStories/TinyStories_all_data.tar.gz\n",
    "# !cd datasets/TinyStories && tar -xvf TinyStories_all_data.tar.gz && cd ../.."
   ]
  },
  {
   "cell_type": "code",
   "execution_count": null,
   "metadata": {},
   "outputs": [],
   "source": []
  },
  {
   "cell_type": "code",
   "execution_count": null,
   "metadata": {},
   "outputs": [
    {
     "name": "stderr",
     "output_type": "stream",
     "text": [
      "100%|██████████| 51/51 [03:08<00:00,  3.69s/it]\n"
     ]
    }
   ],
   "source": [
    "from tqdm import tqdm\n",
    "\n",
    "import json\n",
    "import os\n",
    "from pathlib import Path\n",
    "import unidecode\n",
    "\n",
    "\n",
    "TS_PATH = Path(\"datasets/TinyStories/\")\n",
    "\n",
    "\n",
    "stories = []\n",
    "\n",
    "for file in tqdm(list(sorted(os.listdir(TS_PATH)))):\n",
    "    if file.endswith(\".json\"):\n",
    "        with open(TS_PATH / file, \"r\") as f:\n",
    "            data = json.load(f)\n",
    "            for d in data:\n",
    "                story = d[\"story\"]\n",
    "                if not all(ord(c) < 128 for c in story):\n",
    "                    story = unidecode.unidecode(story)\n",
    "\n",
    "                stories.append(story)\n",
    "\n",
    "                # if d[\"source\"] == \"GPT-3.5\":\n",
    "                #     gpt35_stories.append(story)\n",
    "                # elif d[\"source\"] == \"GPT-4\":\n",
    "                #     gpt4_stories.append(story)\n",
    "\n",
    "# with open(\"gpt35_stories.txt\", \"w\") as f:\n",
    "#     f.write(\"\\n\".join(gpt35_stories))\n",
    "\n",
    "# with open(\"gpt4_stories.txt\", \"w\") as f:\n",
    "#     f.write(\"\\n\".join(gpt4_stories))\n"
   ]
  },
  {
   "cell_type": "code",
   "execution_count": null,
   "metadata": {},
   "outputs": [
    {
     "ename": "",
     "evalue": "",
     "output_type": "error",
     "traceback": [
      "\u001b[1;31mThe Kernel crashed while executing code in the the current cell or a previous cell. Please review the code in the cell(s) to identify a possible cause of the failure. Click <a href='https://aka.ms/vscodeJupyterKernelCrash'>here</a> for more info. View Jupyter <a href='command:jupyter.viewOutput'>log</a> for further details."
     ]
    }
   ],
   "source": [
    "with open(TS_PATH / \"TinyStories.txt\", \"w\") as f:\n",
    "    f.write(\"\\n\".join(stories))\n"
   ]
  },
  {
   "cell_type": "code",
   "execution_count": null,
   "metadata": {},
   "outputs": [
    {
     "data": {
      "text/plain": [
       "'\\t\\n !\"$%&\\'()*+,-./0123456789:;?ABCDEFGHIJKLMNOPQRSTUVWXYZ[]`abcdefghijklmnopqrstuvwxyz|~'"
      ]
     },
     "execution_count": null,
     "metadata": {},
     "output_type": "execute_result"
    }
   ],
   "source": []
  }
 ],
 "metadata": {
  "kernelspec": {
   "display_name": "python3",
   "language": "python",
   "name": "python3"
  }
 },
 "nbformat": 4,
 "nbformat_minor": 2
}
