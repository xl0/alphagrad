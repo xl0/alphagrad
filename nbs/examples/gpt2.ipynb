{
 "cells": [
  {
   "cell_type": "raw",
   "metadata": {},
   "source": [
    "---\n",
    "skip_exec: true\n",
    "---"
   ]
  },
  {
   "cell_type": "code",
   "execution_count": null,
   "metadata": {},
   "outputs": [],
   "source": [
    "from tidygrad.tensor import Tensor\n",
    "from tidygrad.functional import Embedding, embedding\n",
    "import numpy as np\n",
    "from lovely_numpy import Lo\n",
    "\n",
    "\n",
    "from transformers import GPT2Tokenizer"
   ]
  },
  {
   "cell_type": "code",
   "execution_count": null,
   "metadata": {},
   "outputs": [],
   "source": [
    "from safetensors import safe_open"
   ]
  },
  {
   "cell_type": "code",
   "execution_count": null,
   "metadata": {},
   "outputs": [],
   "source": [
    "text = \"In a hole in the ground there lived a\"\n",
    "tokenizer = GPT2Tokenizer.from_pretrained(\"gpt2\")\n",
    "\n",
    "# tokens = tokenizer.encode(text)  # returns a list of integers\n",
    "# tokens = Tensor(tokens)\n",
    "\n",
    "tokens = [ 1, 2, 3, 4, 5, 6, 7, 8, 9, 10 ]"
   ]
  },
  {
   "cell_type": "code",
   "execution_count": null,
   "metadata": {},
   "outputs": [
    {
     "data": {
      "text/plain": [
       "[1, 2, 3, 4, 5, 6, 7, 8, 9, 10]"
      ]
     },
     "execution_count": null,
     "metadata": {},
     "output_type": "execute_result"
    }
   ],
   "source": [
    "tokens"
   ]
  },
  {
   "cell_type": "code",
   "execution_count": null,
   "metadata": {},
   "outputs": [],
   "source": [
    "model = safe_open(\"model.safetensors\", framework=\"np\")"
   ]
  },
  {
   "cell_type": "code",
   "execution_count": null,
   "metadata": {},
   "outputs": [
    {
     "data": {
      "text/plain": [
       "['h.9.ln_2.bias',\n",
       " 'h.9.ln_2.weight',\n",
       " 'h.9.mlp.c_fc.bias',\n",
       " 'h.9.mlp.c_fc.weight',\n",
       " 'h.9.mlp.c_proj.bias',\n",
       " 'h.9.mlp.c_proj.weight',\n",
       " 'ln_f.bias',\n",
       " 'ln_f.weight',\n",
       " 'wpe.weight',\n",
       " 'wte.weight']"
      ]
     },
     "execution_count": null,
     "metadata": {},
     "output_type": "execute_result"
    }
   ],
   "source": [
    "model.keys()[-10:]"
   ]
  },
  {
   "cell_type": "code",
   "execution_count": null,
   "metadata": {},
   "outputs": [
    {
     "name": "stdout",
     "output_type": "stream",
     "text": [
      "Tensor[1024, 768](name=\"?\" op=Load):\n",
      "    v=array[1024, 768] f32 n=786432 (3Mb) x∈[-4.538, 4.065] μ=-0.001 σ=0.123\n",
      "    \n",
      "Tensor[50257, 768](name=\"?\" op=Load):\n",
      "    v=array[50257, 768] f32 n=38597376 (0.1Gb) x∈[-1.270, 1.785] μ=0.000 σ=0.144\n",
      "    \n"
     ]
    }
   ],
   "source": [
    "wte = Tensor(model.get_tensor(\"wte.weight\"))\n",
    "wpe = Tensor(model.get_tensor(\"wpe.weight\"))\n",
    "\n",
    "print(wpe)\n",
    "print(wte)"
   ]
  },
  {
   "cell_type": "code",
   "execution_count": null,
   "metadata": {},
   "outputs": [],
   "source": [
    "import tidygrad"
   ]
  },
  {
   "cell_type": "code",
   "execution_count": null,
   "metadata": {},
   "outputs": [
    {
     "data": {
      "text/plain": [
       "Tensor[10, 768](name=\"(embedding(?)+embedding(?))\" op=Add):\n",
       "    v=array[10, 768] f32 n=7680 (30Kb) x∈[-4.511, 3.938] μ=-9.411e-05 σ=0.219\n",
       "    "
      ]
     },
     "execution_count": null,
     "metadata": {},
     "output_type": "execute_result"
    }
   ],
   "source": [
    "token_embeddings = embedding(wte, tokens)\n",
    "\n",
    "positions = np.arange(len(tokens))\n",
    "position_embeddings = embedding(wpe, positions)\n",
    "\n",
    "embeddings = token_embeddings + position_embeddings\n",
    "Lo(embeddings)"
   ]
  },
  {
   "cell_type": "code",
   "execution_count": null,
   "metadata": {},
   "outputs": [],
   "source": [
    "ln_1_w = model.get_tensor(\"h.0.ln_1.weight\")\n",
    "ln_1_b = model.get_tensor(\"h.0.ln_1.bias\")"
   ]
  },
  {
   "cell_type": "code",
   "execution_count": null,
   "metadata": {},
   "outputs": [
    {
     "data": {
      "text/plain": [
       "Tensor[2, 2](name=\"?\" op=Load):\n",
       "    v=array[2, 2] i64 n=4 x∈[1, 2] μ=1.500 σ=0.500 [[2, 2], [1, 1]]\n",
       "    "
      ]
     },
     "execution_count": null,
     "metadata": {},
     "output_type": "execute_result"
    }
   ],
   "source": [
    "a = Tensor([[2,2],[1,1]])\n",
    "a"
   ]
  },
  {
   "cell_type": "code",
   "execution_count": null,
   "metadata": {},
   "outputs": [
    {
     "data": {
      "text/plain": [
       "(Tensor[1, 1](name=\"pow((sum(var)/?),0.5)\" op=Pow):\n",
       "     v=array[1, 1] [[0.991]]\n",
       "     ,\n",
       " 0.991)"
      ]
     },
     "execution_count": null,
     "metadata": {},
     "output_type": "execute_result"
    }
   ],
   "source": [
    "data = np.random.randn(100,50)\n",
    "\n",
    "a = Tensor(data)\n",
    "\n",
    "a.std(axis=None, keepdims=True), Lo(np.std(data, axis=None, ddof=1))"
   ]
  },
  {
   "cell_type": "code",
   "execution_count": null,
   "metadata": {},
   "outputs": [],
   "source": [
    "def layer_norm(x,  w, b, eps=1e-8):\n",
    "    mu = x.mean(axis=-1, keepdims=True)\n",
    "    sigma = x.std(axis=-1, keepdims=True)\n",
    "\n",
    "    return ((x - mu) / (sigma + eps) ) * w + b#  tensor[10, 768] n=7680 (30Kb) x∈[-0.788, 0.579] μ=-0.005 σ=0.106\n"
   ]
  },
  {
   "cell_type": "code",
   "execution_count": null,
   "metadata": {},
   "outputs": [
    {
     "data": {
      "text/plain": [
       "Tensor[10, 768](name=\"(((((embedding(?)+embedding(?))-(sum((embedding(?)+embedding(?)))/?))/(pow((sum(var)/?),0.5)+?))*?)+?)\" op=Add):\n",
       "    v=array[10, 768] f32 n=7680 (30Kb) x∈[-0.787, 0.579] μ=-0.005 σ=0.106\n",
       "    "
      ]
     },
     "execution_count": null,
     "metadata": {},
     "output_type": "execute_result"
    }
   ],
   "source": [
    "ln_1 = layer_norm(embeddings, ln_1_w, ln_1_b)\n",
    "ln_1\n",
    "\n",
    "#  tensor[10, 768] n=7680 (30Kb) x∈[-0.788, 0.579] μ=-0.005 σ=0.106"
   ]
  }
 ],
 "metadata": {
  "kernelspec": {
   "display_name": "python3",
   "language": "python",
   "name": "python3"
  }
 },
 "nbformat": 4,
 "nbformat_minor": 2
}
