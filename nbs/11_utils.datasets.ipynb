{
 "cells": [
  {
   "cell_type": "code",
   "execution_count": null,
   "metadata": {},
   "outputs": [],
   "source": [
    "#| default_exp utils.datasets\n",
    "# | hide\n",
    "import nbdev\n",
    "from nbdev.showdoc import *\n",
    "\n",
    "nbdev.nbdev_export()"
   ]
  },
  {
   "cell_type": "code",
   "execution_count": null,
   "metadata": {},
   "outputs": [],
   "source": [
    "# |export\n",
    "import numpy as np\n",
    "import gzip\n",
    "\n",
    "from tidygrad.utils.data import Dataset, download_file, DataLoader"
   ]
  },
  {
   "cell_type": "code",
   "execution_count": null,
   "metadata": {},
   "outputs": [],
   "source": [
    "#| export\n",
    "\n",
    "from tidygrad.utils.data import download_file\n",
    "from pathlib import Path\n",
    "#| export\n",
    "\n",
    "def load_mnist(path, url):\n",
    "    file_path = Path(path) / \"mnist.npz\"\n",
    "    download_file(file_path, url+\"mnist.npz\")\n",
    "    with np.load(file_path) as f:\n",
    "        x_train, y_train = f[\"x_train\"], f[\"y_train\"]\n",
    "        x_test, y_test = f[\"x_test\"], f[\"y_test\"]\n",
    "\n",
    "        x_train = x_train.astype(np.float32)\n",
    "        y_train = y_train.astype(np.int32)\n",
    "        x_test = x_test.astype(np.float32)\n",
    "        y_test = y_test.astype(np.int32)\n",
    "\n",
    "    return (x_train, y_train), (x_test, y_test)\n",
    "\n",
    "def load_fashion_mnist(path, url_base):\n",
    "    filenames = [\"train-images-idx3-ubyte.gz\", \"train-labels-idx1-ubyte.gz\", \"t10k-images-idx3-ubyte.gz\", \"t10k-labels-idx1-ubyte.gz\"]\n",
    "    for f in filenames:\n",
    "        download_file(path / f, url_base + f)\n",
    "\n",
    "    with gzip.open(path / filenames[0], \"rb\") as f:\n",
    "        x_train = np.frombuffer(f.read(), np.uint8, offset=16).reshape(-1, 28, 28)\n",
    "\n",
    "    with gzip.open(path / filenames[1], \"rb\") as f:\n",
    "        y_train = np.frombuffer(f.read(), np.uint8, offset=8)\n",
    "\n",
    "    with gzip.open(path / filenames[2], \"rb\") as f:\n",
    "        x_test = np.frombuffer(f.read(), np.uint8, offset=16).reshape(-1, 28, 28)\n",
    "\n",
    "    with gzip.open(path / filenames[3], \"rb\") as f:\n",
    "        y_test = np.frombuffer(f.read(), np.uint8, offset=8)\n",
    "\n",
    "    return (x_train, y_train), (x_test, y_test)\n",
    "\n",
    "class MNIST(Dataset):\n",
    "    \"\"\"MNIST Dataset\"\"\"\n",
    "    def __init__(\n",
    "        self,\n",
    "        path=\"datasets\",\n",
    "        url=None,\n",
    "        train=True,\n",
    "        item_tfms=(),\n",
    "        fashion=False,\n",
    "    ):\n",
    "        self.item_tfms = item_tfms\n",
    "        self.path = Path(path)\n",
    "        self.train = train\n",
    "\n",
    "        url = \"https://storage.googleapis.com/tensorflow/tf-keras-datasets/\" if url is None else url\n",
    "\n",
    "        if fashion:\n",
    "            (self.x_train, self.y_train), (self.x_test, self.y_test) = load_fashion_mnist(self.path, url)\n",
    "        else:\n",
    "            (self.x_train, self.y_train), (self.x_test, self.y_test) = load_mnist(self.path, url)\n",
    "\n",
    "        if self.train:\n",
    "            self.x, self.y = self.x_train, self.y_train\n",
    "        else:\n",
    "            self.x, self.y = self.x_test, self.y_test\n",
    "\n",
    "    def __getitem__(self, idx):\n",
    "        if not isinstance(idx, int):\n",
    "            raise TypeError(\"Index must be an integer.\")\n",
    "\n",
    "        x, y = self.x[idx], self.y[idx]\n",
    "        for tfm in self.item_tfms:\n",
    "            x, y = tfm(x, y)\n",
    "        return x, y\n",
    "\n",
    "    def __len__(self):\n",
    "        return len(self.x)\n",
    "\n",
    "    def shuffle(self):\n",
    "        idx = np.random.permutation(len(self))\n",
    "        self.x, self.y = self.x[idx], self.y[idx]\n",
    "\n",
    "    def collate_fn(self, batch: list):\n",
    "        return np.stack([item[0] for item in batch]), np.stack([item[1] for item in batch])"
   ]
  },
  {
   "cell_type": "code",
   "execution_count": null,
   "metadata": {},
   "outputs": [],
   "source": [
    "#| export\n",
    "def mnist_batch_tfm(x, y):\n",
    "    return (x.reshape(x.shape[0], -1) / 255 - 0.5, y)"
   ]
  },
  {
   "cell_type": "code",
   "execution_count": null,
   "metadata": {},
   "outputs": [],
   "source": [
    "from matplotlib import pyplot as plt\n",
    "from lovely_numpy import Lo"
   ]
  },
  {
   "cell_type": "code",
   "execution_count": null,
   "metadata": {},
   "outputs": [
    {
     "name": "stdout",
     "output_type": "stream",
     "text": [
      "File datasets/mnist.npz already exists\n"
     ]
    },
    {
     "data": {
      "text/plain": [
       "(array[60000, 28, 28] f32 n=47040000 (0.2Gb) x∈[0., 255.000] μ=33.318 σ=78.567,\n",
       " array[60000] i32 0.2Mb x∈[0, 9] μ=4.454 σ=2.889,\n",
       " array[28, 28] f32 n=784 (3.1Kb) x∈[0., 255.000] μ=35.108 σ=79.649)"
      ]
     },
     "execution_count": null,
     "metadata": {},
     "output_type": "execute_result"
    },
    {
     "data": {
      "image/png": "[encoded data removed]",
      "text/plain": [
       "<Figure size 640x480 with 1 Axes>"
      ]
     },
     "metadata": {},
     "output_type": "display_data"
    }
   ],
   "source": [
    "mnist = MNIST()\n",
    "plt.imshow(mnist.x[0])\n",
    "Lo(mnist.x), Lo(mnist.y), Lo(mnist.x[0])"
   ]
  },
  {
   "cell_type": "code",
   "execution_count": null,
   "metadata": {},
   "outputs": [
    {
     "data": {
      "text/plain": [
       "(Tensor[64, 784](name=\"?\" op=Load):\n",
       "     v=array[64, 784] f32 n=50176 (0.2Mb) x∈[-0.500, 0.500] μ=-0.368 σ=0.309\n",
       "     ∇=array[64, 784] f32 n=50176 (0.2Mb) \u001b[38;2;127;127;127mall_zeros\u001b[0m,\n",
       " Tensor[64](name=\"?\" op=Load):\n",
       "     v=array[64] i32 x∈[0, 9] μ=4.719 σ=3.223\n",
       "     ∇=array[64] f32 \u001b[38;2;127;127;127mall_zeros\u001b[0m)"
      ]
     },
     "execution_count": null,
     "metadata": {},
     "output_type": "execute_result"
    }
   ],
   "source": [
    "mnist_dl = DataLoader(mnist, batch_size=64, batch_tfms=[mnist_batch_tfm])\n",
    "x, y = next(iter(mnist_dl))\n",
    "x, y"
   ]
  },
  {
   "cell_type": "code",
   "execution_count": null,
   "metadata": {},
   "outputs": [
    {
     "name": "stdout",
     "output_type": "stream",
     "text": [
      "Downloading https://storage.googleapis.com/tensorflow/tf-keras-datasets/train-images-idx3-ubyte.gz to datasets/train-images-idx3-ubyte.gz\n"
     ]
    },
    {
     "name": "stdout",
     "output_type": "stream",
     "text": [
      "Downloading https://storage.googleapis.com/tensorflow/tf-keras-datasets/train-labels-idx1-ubyte.gz to datasets/train-labels-idx1-ubyte.gz\n",
      "Downloading https://storage.googleapis.com/tensorflow/tf-keras-datasets/t10k-images-idx3-ubyte.gz to datasets/t10k-images-idx3-ubyte.gz\n",
      "Downloading https://storage.googleapis.com/tensorflow/tf-keras-datasets/t10k-labels-idx1-ubyte.gz to datasets/t10k-labels-idx1-ubyte.gz\n"
     ]
    },
    {
     "data": {
      "text/plain": [
       "<matplotlib.image.AxesImage>"
      ]
     },
     "execution_count": null,
     "metadata": {},
     "output_type": "execute_result"
    },
    {
     "data": {
      "image/png": "[encoded data removed]",
      "text/plain": [
       "<Figure size 640x480 with 1 Axes>"
      ]
     },
     "metadata": {},
     "output_type": "display_data"
    }
   ],
   "source": [
    "mnist = MNIST(fashion=True)\n",
    "plt.imshow(mnist.x[0])"
   ]
  },
  {
   "cell_type": "code",
   "execution_count": null,
   "metadata": {},
   "outputs": [
    {
     "data": {
      "text/plain": [
       "(array[60000, 28, 28] u8 n=47040000 (45Mb) x∈[0, 255] μ=72.940 σ=90.021,\n",
       " array[60000] u8 59Kb x∈[0, 9] μ=4.500 σ=2.872,\n",
       " array[28, 28] u8 n=784 x∈[0, 255] μ=97.254 σ=101.792)"
      ]
     },
     "execution_count": null,
     "metadata": {},
     "output_type": "execute_result"
    }
   ],
   "source": [
    "Lo(mnist.x), Lo(mnist.y), Lo(mnist.x[0])"
   ]
  }
 ],
 "metadata": {
  "kernelspec": {
   "display_name": "python3",
   "language": "python",
   "name": "python3"
  }
 },
 "nbformat": 4,
 "nbformat_minor": 2
}
