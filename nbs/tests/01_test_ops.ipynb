{
 "cells": [
  {
   "cell_type": "code",
   "execution_count": null,
   "metadata": {},
   "outputs": [],
   "source": [
    "import numpy as np\n",
    "from tidygrad.tensor import Tensor\n",
    "from tidygrad.utils.grad_check import grad_check"
   ]
  },
  {
   "cell_type": "code",
   "execution_count": null,
   "metadata": {},
   "outputs": [],
   "source": [
    "def run_test_binary_elementwise(func, shape1, shape2=None, pos_only=False):\n",
    "    \"\"\"Test a binary elementwise function, like add, mul, etc\"\"\"\n",
    "    shape2 = shape1 if shape2 is None else shape2\n",
    "    if pos_only:\n",
    "        a = Tensor(\n",
    "            np.abs(np.random.randn(*shape1)) + 1e-8, name=\"a\", requires_grad=True\n",
    "        )\n",
    "        b = Tensor(\n",
    "            np.abs(np.random.randn(*shape2)) + 1e-8, name=\"b\", requires_grad=True\n",
    "        )\n",
    "    else:\n",
    "        a = Tensor(np.random.randn(*shape1), name=\"a\", requires_grad=True)\n",
    "        b = Tensor(np.random.randn(*shape2), name=\"b\", requires_grad=True)\n",
    "\n",
    "    t = func(inputs=None, params=(a, b))\n",
    "    t.backward()\n",
    "    grad_check(func=func, inputs=None, params=(a, b))"
   ]
  },
  {
   "cell_type": "code",
   "execution_count": null,
   "metadata": {},
   "outputs": [],
   "source": [
    "def run_test_unary_elementwise(func, shape, pos_only=False, offset=1e-3):\n",
    "    \"\"\"Test a unary elementwise function, like exp, log, etc\"\"\"\n",
    "    if pos_only:\n",
    "        # Mostly for log(a) - it's positive only and is instable too close to zero.\n",
    "        a = Tensor(np.abs(np.random.randn(*shape)) + offset, name=\"a\", requires_grad=True)\n",
    "    else:\n",
    "        a = Tensor(np.random.randn(*shape), name=\"a\", requires_grad=True)\n",
    "\n",
    "    t = func(inputs=None, params=(a,))\n",
    "    t.backward()\n",
    "    grad_check(func=func, inputs=None, params=(a,))"
   ]
  },
  {
   "attachments": {},
   "cell_type": "markdown",
   "metadata": {},
   "source": [
    "### Binary elementwise ops\n"
   ]
  },
  {
   "cell_type": "code",
   "execution_count": null,
   "metadata": {},
   "outputs": [
    {
     "name": "stdout",
     "output_type": "stream",
     "text": [
      "Max fractional gradient difference for b: 0.0000%\n",
      "Max fractional gradient difference for a: 0.0000%\n"
     ]
    }
   ],
   "source": [
    "def add_func(inputs, params: tuple = ()):\n",
    "    a, b = params\n",
    "    loss = a.add(b, \"t\").sum(\"loss\")\n",
    "    return loss\n",
    "\n",
    "\n",
    "run_test_binary_elementwise(add_func, (100, 100))"
   ]
  },
  {
   "cell_type": "code",
   "execution_count": null,
   "metadata": {},
   "outputs": [
    {
     "name": "stdout",
     "output_type": "stream",
     "text": [
      "Max fractional gradient difference for b: 0.0000%\n",
      "Max fractional gradient difference for a: 0.0000%\n"
     ]
    }
   ],
   "source": [
    "def sub_func(inputs, params: tuple = ()):\n",
    "    a, b = params\n",
    "    loss = a.sub(b, \"t\").sum(\"loss\")\n",
    "    return loss\n",
    "\n",
    "\n",
    "run_test_binary_elementwise(sub_func, (100, 100))"
   ]
  },
  {
   "cell_type": "code",
   "execution_count": null,
   "metadata": {},
   "outputs": [
    {
     "name": "stdout",
     "output_type": "stream",
     "text": [
      "Max fractional gradient difference for b: 0.0048%\n",
      "Max fractional gradient difference for a: 0.0000%\n"
     ]
    }
   ],
   "source": [
    "def mul_func(inputs, params: tuple = ()):\n",
    "    a, b = params\n",
    "    loss = a.mul(b, \"t\").sum(\"loss\")\n",
    "    return loss\n",
    "\n",
    "\n",
    "run_test_binary_elementwise(mul_func, (100, 100))"
   ]
  },
  {
   "cell_type": "code",
   "execution_count": null,
   "metadata": {},
   "outputs": [],
   "source": [
    "def pow_func(inputs, params: tuple = ()):\n",
    "    a = params[0]\n",
    "    loss = a.pow(2, \"t\").sum(\"loss\")\n",
    "    return loss\n",
    "\n",
    "\n",
    "def run_test_pow(shape):\n",
    "    a = Tensor(np.random.randn(*shape), name=\"a\", requires_grad=True)\n",
    "    a.data = np.where(np.abs(a.data) < 1e-5, 1e-5, a.data) \n",
    "\n",
    "    t = pow_func(inputs=None, params=(a,))\n",
    "    \n",
    "    t.backward()\n",
    "\n",
    "    grad_check(func=pow_func, inputs=None, params=(a,))\n",
    "\n",
    "# XXX pow is unstable for values close to zero\n",
    "# run_test_pow((100, 100))"
   ]
  },
  {
   "attachments": {},
   "cell_type": "markdown",
   "metadata": {},
   "source": [
    "### Unary elementwise functions\n"
   ]
  },
  {
   "cell_type": "code",
   "execution_count": null,
   "metadata": {},
   "outputs": [
    {
     "name": "stdout",
     "output_type": "stream",
     "text": [
      "Max fractional gradient difference for a: 0.3642%\n"
     ]
    }
   ],
   "source": [
    "def log_func(inputs, params: tuple = ()):\n",
    "    (a,) = params\n",
    "\n",
    "    loss = a.log(\"t\").sum(\"loss\")\n",
    "    return loss\n",
    "\n",
    "\n",
    "run_test_unary_elementwise(log_func, (100, 100), pos_only=True)"
   ]
  },
  {
   "cell_type": "code",
   "execution_count": null,
   "metadata": {},
   "outputs": [
    {
     "name": "stdout",
     "output_type": "stream",
     "text": [
      "Max fractional gradient difference for a: 0.0013%\n"
     ]
    }
   ],
   "source": [
    "def exp_func(inputs, params: tuple = ()):\n",
    "    (a,) = params\n",
    "\n",
    "    loss = a.exp(\"t\").sum(\"loss\")\n",
    "    return loss\n",
    "\n",
    "\n",
    "run_test_unary_elementwise(exp_func, (100, 100))"
   ]
  },
  {
   "cell_type": "code",
   "execution_count": null,
   "metadata": {},
   "outputs": [],
   "source": [
    "from tidygrad.functional import relu, sigmoid, tanh, softmax, gelu, new_gelu"
   ]
  },
  {
   "cell_type": "code",
   "execution_count": null,
   "metadata": {},
   "outputs": [
    {
     "name": "stdout",
     "output_type": "stream",
     "text": [
      "Max fractional gradient difference for a: 0.0007%\n"
     ]
    }
   ],
   "source": [
    "def sigmoid_func(inputs, params: tuple = ()):\n",
    "    (a,) = params\n",
    "    t = sigmoid(a)\n",
    "    return t.sum(\"loss\")\n",
    "\n",
    "\n",
    "run_test_unary_elementwise(sigmoid_func, (100, 100))"
   ]
  },
  {
   "cell_type": "code",
   "execution_count": null,
   "metadata": {},
   "outputs": [
    {
     "name": "stdout",
     "output_type": "stream",
     "text": [
      "Max fractional gradient difference for a: 0.0010%\n"
     ]
    }
   ],
   "source": [
    "def tanh_func(inputs, params: tuple = ()):\n",
    "    (a,) = params\n",
    "    t = tanh(a)\n",
    "    return t.sum(\"loss\")\n",
    "\n",
    "run_test_unary_elementwise(tanh_func, (100, 100))"
   ]
  },
  {
   "cell_type": "code",
   "execution_count": null,
   "metadata": {},
   "outputs": [
    {
     "name": "stdout",
     "output_type": "stream",
     "text": [
      "Max fractional gradient difference for a: 0.0000%\n"
     ]
    }
   ],
   "source": [
    "def relu_func(inputs, params: tuple = ()):\n",
    "    (a,) = params\n",
    "    t = relu(a, \"t\")\n",
    "    return t.sum(\"loss\")\n",
    "\n",
    "run_test_unary_elementwise(relu_func, (100, 100))"
   ]
  },
  {
   "cell_type": "code",
   "execution_count": null,
   "metadata": {},
   "outputs": [],
   "source": [
    "def gelu_func(inputs, params: tuple = ()):\n",
    "    (a,) = params\n",
    "    t = gelu(a)\n",
    "    return t.sum(\"loss\")\n",
    "\n",
    "# XXX Stability issues\n",
    "# run_test_unary_elementwise(gelu_func, (100, 100))"
   ]
  },
  {
   "cell_type": "code",
   "execution_count": null,
   "metadata": {},
   "outputs": [
    {
     "name": "stdout",
     "output_type": "stream",
     "text": [
      "Max fractional gradient difference for a: 0.2677%\n"
     ]
    }
   ],
   "source": [
    "def new_gelu_func(inputs, params: tuple = ()):\n",
    "    (a,) = params\n",
    "    t = new_gelu(a)\n",
    "    return t.sum(\"loss\")\n",
    "# XXX Stability issues\n",
    "# XXX It's also slow!\n",
    "# run_test_unary_elementwise(new_gelu_func, (100, 100))"
   ]
  },
  {
   "cell_type": "code",
   "execution_count": null,
   "metadata": {},
   "outputs": [
    {
     "name": "stdout",
     "output_type": "stream",
     "text": [
      "Max fractional gradient difference for a: 0.0005%\n"
     ]
    }
   ],
   "source": [
    "def softmax_func(inputs, params: tuple = ()):\n",
    "    (a,) = params\n",
    "    n_batch, n_classes = a.shape\n",
    "    y = np.zeros(a.shape)\n",
    "    np.random.seed(42)\n",
    "    y[np.arange(n_batch), np.random.randint(0, n_classes, n_batch)] = 1\n",
    "    y = Tensor(y, name=\"y\")\n",
    "    sm = softmax(a, \"t\")\n",
    "\n",
    "    cross_entropy = y * sm.log() + (1 - y) * (1 - sm).log()\n",
    "    #\n",
    "    return cross_entropy.sum(\"loss\")\n",
    "\n",
    "\n",
    "run_test_unary_elementwise(softmax_func, (1, 5))"
   ]
  },
  {
   "cell_type": "code",
   "execution_count": null,
   "metadata": {},
   "outputs": [
    {
     "name": "stdout",
     "output_type": "stream",
     "text": [
      "Max fractional gradient difference for b: 0.0000%\n",
      "Max fractional gradient difference for a: 0.0000%\n"
     ]
    }
   ],
   "source": [
    "def matmul_func(inputs, params: tuple[Tensor] = ()):\n",
    "    a, b = params\n",
    "    t = a.mmul(b, \"t\")\n",
    "    return t.sum(\"loss\")\n",
    "\n",
    "\n",
    "def run_test_matmul(shape1, shape2):\n",
    "    a = Tensor(np.random.randn(*shape1), name=\"a\", requires_grad=True)\n",
    "    b = Tensor(np.random.randn(*shape2), name=\"b\", requires_grad=True)\n",
    "    t = matmul_func(inputs=None, params=(a, b))\n",
    "    t.backward()\n",
    "\n",
    "    grad_check(func=matmul_func, inputs=None, params=(a, b))\n",
    "\n",
    "\n",
    "run_test_matmul((10, 100), (100, 50))"
   ]
  },
  {
   "attachments": {},
   "cell_type": "markdown",
   "metadata": {},
   "source": [
    "### Broadcasting\n"
   ]
  },
  {
   "cell_type": "code",
   "execution_count": null,
   "metadata": {},
   "outputs": [
    {
     "name": "stdout",
     "output_type": "stream",
     "text": [
      "Max fractional gradient difference for b: 0.0000%\n",
      "Max fractional gradient difference for a: 0.0000%\n"
     ]
    }
   ],
   "source": [
    "run_test_binary_elementwise(add_func, (2, 10, 1), (10, 100))"
   ]
  },
  {
   "cell_type": "code",
   "execution_count": null,
   "metadata": {},
   "outputs": [
    {
     "name": "stdout",
     "output_type": "stream",
     "text": [
      "Max fractional gradient difference for b: 0.0001%\n",
      "Max fractional gradient difference for a: 0.0000%\n"
     ]
    }
   ],
   "source": [
    "run_test_matmul((2, 10, 100), (100, 10))"
   ]
  },
  {
   "attachments": {},
   "cell_type": "markdown",
   "metadata": {},
   "source": [
    "### Test loss functions\n"
   ]
  },
  {
   "cell_type": "code",
   "execution_count": null,
   "metadata": {},
   "outputs": [],
   "source": [
    "# def lt_func(inputs, params: tuple = ()):\n",
    "#     a, b = params\n",
    "#     loss = (a < b).sum(\"loss\")\n",
    "#     return loss\n",
    "\n",
    "# run_test_binary_elementwise(lt_func, (100, 100), (100, 100))\n",
    "\n",
    "# a = Tensor(np.random.randn(100, 100), name=\"a\")\n",
    "# b = Tensor(np.random.randn(100, 100), name=\"b\")\n",
    "\n",
    "# t = lt_func(inputs=None, params=(a, b))\n",
    "# t.backward()"
   ]
  },
  {
   "cell_type": "code",
   "execution_count": null,
   "metadata": {},
   "outputs": [],
   "source": [
    "from tidygrad.functional import BCE_loss"
   ]
  },
  {
   "cell_type": "code",
   "execution_count": null,
   "metadata": {},
   "outputs": [
    {
     "name": "stdout",
     "output_type": "stream",
     "text": [
      "Max fractional gradient difference for x: 0.0028%\n"
     ]
    }
   ],
   "source": [
    "def bceloss_func(inputs, params: tuple = ()):\n",
    "    y = inputs[0]\n",
    "    x = params[0]\n",
    "\n",
    "    loss = BCE_loss(x, y).sum(\"loss\")\n",
    "    return loss\n",
    "\n",
    "\n",
    "x = Tensor(np.random.randn(100), name=\"x\", requires_grad=True)\n",
    "y = Tensor(np.random.randn(100), name=\"y\", requires_grad=True)\n",
    "\n",
    "t = bceloss_func(inputs=(y,), params=(x,))\n",
    "t.backward()\n",
    "\n",
    "grad_check(func=bceloss_func, inputs=(y,), params=(x,))"
   ]
  },
  {
   "attachments": {},
   "cell_type": "markdown",
   "metadata": {},
   "source": [
    "### Test Dropout\n"
   ]
  },
  {
   "cell_type": "code",
   "execution_count": null,
   "metadata": {},
   "outputs": [],
   "source": [
    "from tidygrad.functional import dropout"
   ]
  },
  {
   "cell_type": "code",
   "execution_count": null,
   "metadata": {},
   "outputs": [
    {
     "name": "stdout",
     "output_type": "stream",
     "text": [
      "Max fractional gradient difference for p: 0.0000%\n"
     ]
    }
   ],
   "source": [
    "def dropout_func(inputs, params: tuple = ()):\n",
    "    p = params[0]\n",
    "\n",
    "    np.random.seed(1337)\n",
    "    t = dropout(p, 0.3, training=True)\n",
    "    return t.sum(\"loss\")\n",
    "\n",
    "\n",
    "p = Tensor(np.random.randn(100), name=\"p\", requires_grad=True)\n",
    "\n",
    "t = dropout_func(inputs=None, params=(p,))\n",
    "t.backward()\n",
    "\n",
    "grad_check(func=dropout_func, inputs=None, params=(p,))"
   ]
  },
  {
   "cell_type": "code",
   "execution_count": null,
   "metadata": {},
   "outputs": [],
   "source": [
    "from tidygrad.functional import embedding"
   ]
  },
  {
   "cell_type": "markdown",
   "metadata": {},
   "source": [
    "### Test Embedding\n"
   ]
  },
  {
   "cell_type": "code",
   "execution_count": null,
   "metadata": {},
   "outputs": [
    {
     "name": "stdout",
     "output_type": "stream",
     "text": [
      "Max fractional gradient difference for w: 0.0000%\n"
     ]
    }
   ],
   "source": [
    "def embedding_func(inputs, params: tuple = ()):\n",
    "    idxs = inputs[0]\n",
    "    w = params[0]\n",
    "    t = embedding(w, idxs, \"t\")\n",
    "    return t.sum(\"loss\")\n",
    "\n",
    "\n",
    "idxs = [1, 2, 3, 4, 5, 6, 7, 8, 9]\n",
    "w = Tensor(np.random.randn(10, 100), name=\"w\", requires_grad=True)\n",
    "\n",
    "t = embedding_func(inputs=(idxs,), params=(w,))\n",
    "t.backward()\n",
    "\n",
    "grad_check(func=embedding_func, inputs=(idxs,), params=(w,))"
   ]
  },
  {
   "cell_type": "markdown",
   "metadata": {},
   "source": [
    "### Test sum and mean and std\n"
   ]
  },
  {
   "cell_type": "code",
   "execution_count": null,
   "metadata": {},
   "outputs": [
    {
     "name": "stdout",
     "output_type": "stream",
     "text": [
      "Max fractional gradient difference for a: 0.0000%\n"
     ]
    }
   ],
   "source": [
    "def sum_test(inputs, params: tuple = ()):\n",
    "    a = params[0]\n",
    "    t = a.sum(\"t\")\n",
    "    return t.sum(\"loss\")\n",
    "\n",
    "\n",
    "run_test_unary_elementwise(sum_test, (100, 100))"
   ]
  },
  {
   "cell_type": "code",
   "execution_count": null,
   "metadata": {},
   "outputs": [
    {
     "name": "stdout",
     "output_type": "stream",
     "text": [
      "Max fractional gradient difference for a: 0.0000%\n"
     ]
    }
   ],
   "source": [
    "def mean_test(inputs, params: tuple = ()):\n",
    "    a = params[0]\n",
    "    t = a.mean(\"t\")\n",
    "    return t.sum(\"loss\")\n",
    "\n",
    "\n",
    "run_test_unary_elementwise(mean_test, (100, 100))"
   ]
  },
  {
   "cell_type": "code",
   "execution_count": null,
   "metadata": {},
   "outputs": [
    {
     "name": "stdout",
     "output_type": "stream",
     "text": [
      "Max fractional gradient difference for a: 0.0049%\n"
     ]
    }
   ],
   "source": [
    "def std_test(inputs, params: tuple = ()):\n",
    "    a = params[0]\n",
    "    t = a.std(\"t\")\n",
    "    return t.sum(\"loss\")\n",
    "\n",
    "run_test_unary_elementwise(std_test, (100, 100))"
   ]
  },
  {
   "cell_type": "code",
   "execution_count": null,
   "metadata": {},
   "outputs": [
    {
     "data": {
      "text/plain": [
       "Tensor[100, 100](name=\"pow(a,3)\" op=Pow parents=[a]):\n",
       "    v=array[100, 100] n=10000 (78Kb) x∈[-41.412, 47.474] μ=0.066 σ=3.739\n",
       "    ∇=array[100, 100] f32 n=10000 (39Kb) \u001b[38;2;127;127;127mall_zeros\u001b[0m"
      ]
     },
     "execution_count": null,
     "metadata": {},
     "output_type": "execute_result"
    }
   ],
   "source": [
    "a = Tensor(np.random.randn(100, 100), name=\"a\", requires_grad=True)\n",
    "\n",
    "a ** 3"
   ]
  }
 ],
 "metadata": {
  "kernelspec": {
   "display_name": "python3",
   "language": "python",
   "name": "python3"
  }
 },
 "nbformat": 4,
 "nbformat_minor": 2
}
