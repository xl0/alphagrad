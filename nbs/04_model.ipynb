{
 "cells": [
  {
   "cell_type": "code",
   "execution_count": null,
   "metadata": {},
   "outputs": [],
   "source": [
    "# | default_exp model\n",
    "# | hide\n",
    "import nbdev\n",
    "from nbdev.showdoc import *\n",
    "\n",
    "nbdev.nbdev_export()"
   ]
  },
  {
   "cell_type": "code",
   "execution_count": null,
   "metadata": {},
   "outputs": [],
   "source": [
    "# | exporti\n",
    "\n",
    "from typing import Union\n",
    "import os\n",
    "\n",
    "from lovely_numpy import Lo\n",
    "\n",
    "import numpy as np\n",
    "from tidygrad.tensor import Tensor\n",
    "import safetensors\n",
    "import safetensors.numpy"
   ]
  },
  {
   "cell_type": "code",
   "execution_count": null,
   "metadata": {},
   "outputs": [],
   "source": [
    "#| export\n",
    "\n",
    "Params_type = Union[dict[str, tuple], str, os.PathLike]\n",
    "\n",
    "class Model:\n",
    "    def __init__(self, params: Params_type):\n",
    "\n",
    "        self.params = {}\n",
    "\n",
    "        if isinstance(params, dict):\n",
    "            for name, shape in params.items():\n",
    "                self.params[name] = Tensor(np.zeros(shape))\n",
    "\n",
    "        elif isinstance(params, (str, os.PathLike)):\n",
    "            model = safetensors.safe_open(params, framework=\"numpy\")\n",
    "            for name in model.keys():\n",
    "                self.params[name] = Tensor(model.get_tensor(name), name=name)\n",
    "\n",
    "        else:\n",
    "            raise TypeError(\"params must be a dict or a path\")\n",
    "\n",
    "    def __repr__(self):\n",
    "        return f\"Model with params:\\n\" + \"\\n\".join([f\"\\t{name}: {param.shape}\" for name, param in self.params.items()])\n",
    "\n",
    "    def save(self, filename: str):\n",
    "        d = {key: self.params[key].data for key in self.params.keys()}\n",
    "        safetensors.numpy.save_file(d, filename)\n",
    "\n",
    "\n",
    "    def requires_grad(self, value):\n",
    "        for name, param in self.params.items():\n",
    "            param.requires_grad = value\n",
    "\n",
    "    def parameter_list(self):\n",
    "        return list(self.params.values())\n",
    "\n"
   ]
  }
 ],
 "metadata": {
  "kernelspec": {
   "display_name": "python3",
   "language": "python",
   "name": "python3"
  }
 },
 "nbformat": 4,
 "nbformat_minor": 2
}
