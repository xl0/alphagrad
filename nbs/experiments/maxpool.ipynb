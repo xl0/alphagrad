{
 "cells": [
  {
   "cell_type": "code",
   "execution_count": 15,
   "metadata": {},
   "outputs": [],
   "source": [
    "import numpy as np\n",
    "A = np.arange(36)\n",
    "np.random.shuffle(A)\n",
    "A = A.reshape(6,6)"
   ]
  },
  {
   "cell_type": "code",
   "execution_count": 16,
   "metadata": {},
   "outputs": [],
   "source": [
    "from numpy.lib.stride_tricks import as_strided\n",
    "\n",
    "s, k = 2, 2\n",
    "\n",
    "out_height = (A.shape[0] - k)//s + 1\n",
    "out_width = (A.shape[1] - k)//s + 1\n",
    "\n",
    "strided = as_strided(A, shape=(out_height, out_width, k, k), strides=(s*A.strides[0], s*A.strides[1], A.strides[0], A.strides[1]))"
   ]
  },
  {
   "cell_type": "code",
   "execution_count": 17,
   "metadata": {},
   "outputs": [
    {
     "data": {
      "text/plain": [
       "array([[[[33, 11],\n",
       "         [27, 15]],\n",
       "\n",
       "        [[ 6, 14],\n",
       "         [32,  5]],\n",
       "\n",
       "        [[ 1,  7],\n",
       "         [10, 18]]],\n",
       "\n",
       "\n",
       "       [[[28, 30],\n",
       "         [22, 25]],\n",
       "\n",
       "        [[17,  4],\n",
       "         [20, 35]],\n",
       "\n",
       "        [[19, 21],\n",
       "         [26, 34]]],\n",
       "\n",
       "\n",
       "       [[[ 2, 16],\n",
       "         [23,  8]],\n",
       "\n",
       "        [[29,  0],\n",
       "         [12,  9]],\n",
       "\n",
       "        [[31, 13],\n",
       "         [24,  3]]]])"
      ]
     },
     "execution_count": 17,
     "metadata": {},
     "output_type": "execute_result"
    }
   ],
   "source": [
    "strided"
   ]
  },
  {
   "cell_type": "code",
   "execution_count": 18,
   "metadata": {},
   "outputs": [
    {
     "data": {
      "text/plain": [
       "'1.26.1'"
      ]
     },
     "execution_count": 18,
     "metadata": {},
     "output_type": "execute_result"
    }
   ],
   "source": [
    "np.__version__"
   ]
  },
  {
   "cell_type": "code",
   "execution_count": 19,
   "metadata": {},
   "outputs": [
    {
     "data": {
      "text/plain": [
       "array([[0, 2, 3],\n",
       "       [1, 3, 3],\n",
       "       [2, 0, 0]])"
      ]
     },
     "execution_count": 19,
     "metadata": {},
     "output_type": "execute_result"
    }
   ],
   "source": [
    "merged_shape = (*strided.shape[:-2], -1)  # Merge the last two dimensions\n",
    "reshaped_strided = strided.reshape(merged_shape)\n",
    "max_indices = np.argmax(reshaped_strided, axis=-1)\n",
    "\n",
    "max_indices"
   ]
  },
  {
   "cell_type": "code",
   "execution_count": 22,
   "metadata": {},
   "outputs": [
    {
     "name": "stdout",
     "output_type": "stream",
     "text": [
      "Max indices:\n",
      " [[0 2 3]\n",
      " [1 3 3]\n",
      " [2 0 0]]\n",
      "Unraveled indices:\n",
      " (array([[0, 1, 1],\n",
      "       [0, 1, 1],\n",
      "       [1, 0, 0]]), array([[0, 0, 1],\n",
      "       [1, 1, 1],\n",
      "       [0, 0, 0]]))\n"
     ]
    }
   ],
   "source": [
    "# Optionally, unravel the indices\n",
    "unraveled_indices = np.unravel_index(max_indices, (k, k))\n",
    "\n",
    "print(\"Max indices:\\n\", max_indices)\n",
    "print(\"Unraveled indices:\\n\", unraveled_indices)"
   ]
  },
  {
   "cell_type": "code",
   "execution_count": 23,
   "metadata": {},
   "outputs": [],
   "source": [
    "# Initialize the shape of the original array and the stride\n",
    "original_shape = (6, 6)\n",
    "stride = 2\n",
    "\n",
    "# Calculate the original indices\n",
    "original_row_indices = np.arange(0, max_indices.shape[0] * stride, stride)[:, np.newaxis] + unraveled_indices[0]\n",
    "original_col_indices = np.arange(0, max_indices.shape[1] * stride, stride)[np.newaxis, :] + unraveled_indices[1]\n",
    "\n",
    "# Pair them together\n",
    "original_indices = np.stack((original_row_indices, original_col_indices), axis=-1)"
   ]
  },
  {
   "cell_type": "code",
   "execution_count": 24,
   "metadata": {},
   "outputs": [
    {
     "data": {
      "text/plain": [
       "array([[[0, 0],\n",
       "        [1, 2],\n",
       "        [1, 5]],\n",
       "\n",
       "       [[2, 1],\n",
       "        [3, 3],\n",
       "        [3, 5]],\n",
       "\n",
       "       [[5, 0],\n",
       "        [4, 2],\n",
       "        [4, 4]]])"
      ]
     },
     "execution_count": 24,
     "metadata": {},
     "output_type": "execute_result"
    }
   ],
   "source": [
    "original_indices"
   ]
  },
  {
   "cell_type": "code",
   "execution_count": 25,
   "metadata": {},
   "outputs": [
    {
     "data": {
      "text/plain": [
       "array([[33, 11,  6, 14,  1,  7],\n",
       "       [27, 15, 32,  5, 10, 18],\n",
       "       [28, 30, 17,  4, 19, 21],\n",
       "       [22, 25, 20, 35, 26, 34],\n",
       "       [ 2, 16, 29,  0, 31, 13],\n",
       "       [23,  8, 12,  9, 24,  3]])"
      ]
     },
     "execution_count": 25,
     "metadata": {},
     "output_type": "execute_result"
    }
   ],
   "source": [
    "A"
   ]
  },
  {
   "cell_type": "code",
   "execution_count": 31,
   "metadata": {},
   "outputs": [
    {
     "data": {
      "text/plain": [
       "array([[[[ 1,  2],\n",
       "         [ 3,  4]],\n",
       "\n",
       "        [[ 5,  6],\n",
       "         [ 7,  8]]],\n",
       "\n",
       "\n",
       "       [[[ 9, 10],\n",
       "         [11, 12]],\n",
       "\n",
       "        [[13, 14],\n",
       "         [15, 16]]]])"
      ]
     },
     "execution_count": 31,
     "metadata": {},
     "output_type": "execute_result"
    }
   ],
   "source": [
    "A = np.array([[1,  2,  3,  4],\n",
    "              [5,  6,  7,  8],\n",
    "              [9,  10, 11, 12],\n",
    "              [13, 14, 15, 16]])\n",
    "\n",
    "A = A.reshape(2, 2, 2, 2)\n",
    "A"
   ]
  },
  {
   "cell_type": "code",
   "execution_count": 32,
   "metadata": {},
   "outputs": [
    {
     "data": {
      "text/plain": [
       "array([[[[ 1,  2],\n",
       "         [ 5,  6]],\n",
       "\n",
       "        [[ 3,  4],\n",
       "         [ 7,  8]]],\n",
       "\n",
       "\n",
       "       [[[ 9, 10],\n",
       "         [13, 14]],\n",
       "\n",
       "        [[11, 12],\n",
       "         [15, 16]]]])"
      ]
     },
     "execution_count": 32,
     "metadata": {},
     "output_type": "execute_result"
    }
   ],
   "source": [
    "A = A.swapaxes(-2, -3) ;  A"
   ]
  },
  {
   "cell_type": "code",
   "execution_count": 33,
   "metadata": {},
   "outputs": [
    {
     "data": {
      "text/plain": [
       "(2, 2, 2, 2)"
      ]
     },
     "execution_count": 33,
     "metadata": {},
     "output_type": "execute_result"
    }
   ],
   "source": [
    "A.shape"
   ]
  },
  {
   "cell_type": "code",
   "execution_count": 34,
   "metadata": {},
   "outputs": [
    {
     "data": {
      "text/plain": [
       "array([[[1, 1],\n",
       "        [1, 1]],\n",
       "\n",
       "       [[1, 1],\n",
       "        [1, 1]]])"
      ]
     },
     "execution_count": 34,
     "metadata": {},
     "output_type": "execute_result"
    }
   ],
   "source": [
    "np.argmax(A, axis=-1)"
   ]
  },
  {
   "cell_type": "markdown",
   "metadata": {},
   "source": [
    "# FINAL"
   ]
  },
  {
   "cell_type": "code",
   "execution_count": 37,
   "metadata": {},
   "outputs": [
    {
     "data": {
      "text/plain": [
       "array([[ 0,  1,  4,  5],\n",
       "       [ 2,  3,  6,  7],\n",
       "       [ 8,  9, 12, 13],\n",
       "       [10, 11, 14, 15]])"
      ]
     },
     "execution_count": 37,
     "metadata": {},
     "output_type": "execute_result"
    }
   ],
   "source": [
    "# Further revised transform function to output a 2D array where each row is a flattened kxk block\n",
    "def final_transform(matrix, k):\n",
    "    \"\"\"\n",
    "    Transforms a matrix so that each kxk block is flattened and each such flattened block becomes a row in a 2D array.\n",
    "    \n",
    "    Parameters:\n",
    "        matrix (np.array): The matrix to transform.\n",
    "        k (int): The size of the square blocks.\n",
    "    \n",
    "    Returns:\n",
    "        np.array: The transformed 2D array where each row is a flattened kxk block.\n",
    "    \"\"\"\n",
    "    # Reshape into blocks of size kxk\n",
    "    reshaped_matrix = matrix.reshape(matrix.shape[0] // k, k, matrix.shape[1] // k, k)\n",
    "    \n",
    "    # Swap the last two axes\n",
    "    swapped_matrix = reshaped_matrix.swapaxes(1, 2)\n",
    "    \n",
    "    # Flatten each kxk block and make each such flattened block a row in the output 2D array\n",
    "    return swapped_matrix.reshape(-1, k * k)\n",
    "\n",
    "# Testing the final transform function with arange(16)\n",
    "test_matrix = np.arange(16).reshape(4, 4)\n",
    "final_transformed_test_matrix = final_transform(test_matrix, 2)\n",
    "final_transformed_test_matrix\n",
    "\n",
    "\n"
   ]
  },
  {
   "cell_type": "code",
   "execution_count": 38,
   "metadata": {},
   "outputs": [
    {
     "data": {
      "text/plain": [
       "array([ 1,  7,  8, 15])"
      ]
     },
     "execution_count": 38,
     "metadata": {},
     "output_type": "execute_result"
    }
   ],
   "source": [
    "# Using the final_transform function in the main code\n",
    "\n",
    "# Step 1: Define the original 4x4 matrix A\n",
    "A = np.array([[12, 15, 5, 0],\n",
    "              [3, 11, 3, 7],\n",
    "              [9, 3, 5, 2],\n",
    "              [4, 7, 6, 8]])\n",
    "\n",
    "# Step 2: Transform A using the final_transform function\n",
    "transformed_A = final_transform(A, 2)\n",
    "\n",
    "# Step 3: Find max_indices using np.argmax\n",
    "max_indices = np.argmax(transformed_A, axis=1)\n",
    "\n",
    "# Step 4: Create a lookup matrix and transform it\n",
    "lookup = np.arange(16).reshape(4, 4)\n",
    "transformed_lookup = final_transform(lookup, 2)\n",
    "\n",
    "# Step 5: Retrieve original indices using max_indices\n",
    "final_original_indices = transformed_lookup[np.arange(max_indices.size), max_indices]\n",
    "\n",
    "final_original_indices\n"
   ]
  },
  {
   "cell_type": "code",
   "execution_count": 39,
   "metadata": {},
   "outputs": [
    {
     "data": {
      "text/plain": [
       "array([[15,  7],\n",
       "       [ 9,  8]])"
      ]
     },
     "execution_count": 39,
     "metadata": {},
     "output_type": "execute_result"
    }
   ],
   "source": [
    "# Implementing the MaxPool class\n",
    "class MaxPool:\n",
    "    def __init__(self, k):\n",
    "        self.k = k\n",
    "        self.lookup = None\n",
    "\n",
    "    def forward(self, A):\n",
    "        # Determine padding and pad A\n",
    "        pad_height = (self.k - A.shape[0] % self.k) % self.k\n",
    "        pad_width = (self.k - A.shape[1] % self.k) % self.k\n",
    "        padded_A = np.pad(A, ((0, pad_height), (0, pad_width)), mode='constant')\n",
    "        \n",
    "        # Create lookup matrix if it's None or the shape doesn't match\n",
    "        if self.lookup is None or self.lookup.shape != padded_A.shape:\n",
    "            rows, cols = padded_A.shape\n",
    "            self.lookup = np.arange(rows * cols).reshape(rows, cols)\n",
    "        \n",
    "        # Transform A and lookup matrix using the final_transform function\n",
    "        transformed_A = final_transform(padded_A, self.k)\n",
    "        transformed_lookup = final_transform(self.lookup, self.k)\n",
    "        \n",
    "        # Find max_indices using np.argmax\n",
    "        max_indices = np.argmax(transformed_A, axis=1)\n",
    "        \n",
    "        # Retrieve original indices using max_indices\n",
    "        final_original_indices = transformed_lookup[np.arange(max_indices.size), max_indices]\n",
    "        \n",
    "        # Retrieve the max values and reshape to a 2D array\n",
    "        max_values = padded_A.flatten()[final_original_indices]\n",
    "        out_height = padded_A.shape[0] // self.k\n",
    "        out_width = padded_A.shape[1] // self.k\n",
    "        return max_values.reshape(out_height, out_width)\n",
    "\n",
    "# Testing the MaxPool class\n",
    "maxpool = MaxPool(2)\n",
    "A = np.array([[12, 15, 5, 0],\n",
    "              [3, 11, 3, 7],\n",
    "              [9, 3, 5, 2],\n",
    "              [4, 7, 6, 8]])\n",
    "maxpool_output = maxpool.forward(A)\n",
    "maxpool_output\n"
   ]
  },
  {
   "cell_type": "code",
   "execution_count": 40,
   "metadata": {},
   "outputs": [
    {
     "data": {
      "text/plain": [
       "array([[15,  7],\n",
       "       [ 9,  8]])"
      ]
     },
     "execution_count": 40,
     "metadata": {},
     "output_type": "execute_result"
    }
   ],
   "source": [
    "# Modifying the MaxPool class to use cleaner keys for lookups\n",
    "class MaxPool:\n",
    "    def __init__(self, k):\n",
    "        self.k = k\n",
    "        self.lookups = {}  # Dictionary to store lookups for different sizes\n",
    "\n",
    "    def forward(self, A):\n",
    "        # Determine padding and pad A\n",
    "        pad_height = (self.k - A.shape[0] % self.k) % self.k\n",
    "        pad_width = (self.k - A.shape[1] % self.k) % self.k\n",
    "        padded_A = np.pad(A, ((0, pad_height), (0, pad_width)), mode='constant')\n",
    "        \n",
    "        # Create or retrieve lookup matrix using a cleaner key\n",
    "        key = f\"{padded_A.shape[0]}x{padded_A.shape[1]}\"\n",
    "        if key not in self.lookups:\n",
    "            rows, cols = padded_A.shape\n",
    "            self.lookups[key] = np.arange(rows * cols).reshape(rows, cols)\n",
    "        \n",
    "        lookup = self.lookups[key]\n",
    "        \n",
    "        # Transform A and lookup matrix using the final_transform function\n",
    "        transformed_A = final_transform(padded_A, self.k)\n",
    "        transformed_lookup = final_transform(lookup, self.k)\n",
    "        \n",
    "        # Find max_indices using np.argmax\n",
    "        max_indices = np.argmax(transformed_A, axis=1)\n",
    "        \n",
    "        # Retrieve original indices using max_indices\n",
    "        final_original_indices = transformed_lookup[np.arange(max_indices.size), max_indices]\n",
    "        \n",
    "        # Retrieve the max values and reshape to a 2D array\n",
    "        max_values = padded_A.flatten()[final_original_indices]\n",
    "        out_height = padded_A.shape[0] // self.k\n",
    "        out_width = padded_A.shape[1] // self.k\n",
    "        return max_values.reshape(out_height, out_width)\n",
    "\n",
    "# Quick test to ensure functionality remains the same\n",
    "maxpool = MaxPool(2)\n",
    "A1 = np.array([[12, 15, 5, 0],\n",
    "               [3, 11, 3, 7],\n",
    "               [9, 3, 5, 2],\n",
    "               [4, 7, 6, 8]])\n",
    "\n",
    "output1 = maxpool.forward(A1)\n",
    "output1\n"
   ]
  },
  {
   "cell_type": "code",
   "execution_count": 42,
   "metadata": {},
   "outputs": [],
   "source": [
    "def test_maxpool_basic():\n",
    "    # Initialize MaxPool with k=2\n",
    "    maxpool = MaxPool(2)\n",
    "    \n",
    "    # Define a 4x4 matrix\n",
    "    A = np.array([[12, 15, 5, 0],\n",
    "                  [3, 11, 3, 7],\n",
    "                  [9, 3, 5, 2],\n",
    "                  [4, 7, 6, 8]])\n",
    "    \n",
    "    # Expected output based on manual calculation\n",
    "    expected_output = np.array([[15, 7],\n",
    "                                [9, 8]])\n",
    "    \n",
    "    # Run the forward method\n",
    "    output = maxpool.forward(A)\n",
    "    \n",
    "    # Check if the output matches the expected output\n",
    "    assert np.array_equal(output, expected_output), f\"Expected {expected_output}, got {output}\"\n",
    "\n",
    "# Run the first test\n",
    "test_maxpool_basic()"
   ]
  },
  {
   "cell_type": "code",
   "execution_count": 45,
   "metadata": {},
   "outputs": [
    {
     "data": {
      "text/plain": [
       "(0.0003509521484375, 0.0005297660827636719)"
      ]
     },
     "execution_count": 45,
     "metadata": {},
     "output_type": "execute_result"
    }
   ],
   "source": [
    "from time import time\n",
    "\n",
    "# Flushing the cache by reinitializing the MaxPool instance\n",
    "maxpool = MaxPool(2)\n",
    "\n",
    "# Timing the first run of the test after flushing the cache\n",
    "start_time = time()\n",
    "test_maxpool_basic()\n",
    "first_run_time_flushed = time() - start_time\n",
    "\n",
    "# Timing the second run of the test after flushing the cache\n",
    "start_time = time()\n",
    "test_maxpool_basic()\n",
    "second_run_time_flushed = time() - start_time\n",
    "\n",
    "first_run_time_flushed, second_run_time_flushed\n"
   ]
  },
  {
   "cell_type": "code",
   "execution_count": 48,
   "metadata": {},
   "outputs": [],
   "source": [
    "# Implementing the second test: Padding Test\n",
    "\n",
    "def test_maxpool_padding():\n",
    "    # Initialize MaxPool with k=2\n",
    "    maxpool = MaxPool(2)\n",
    "    \n",
    "    # Define a 5x5 matrix\n",
    "    A = np.array([[12, 15, 5, 0, 1],\n",
    "                  [3, 11, 3, 7, 2],\n",
    "                  [9, 3, 5, 2, 3],\n",
    "                  [4, 7, 6, 8, 4],\n",
    "                  [1, 2, 3, 4, 5]])\n",
    "    \n",
    "    # Expected output based on manual calculation\n",
    "    expected_output = np.array([[15, 7, 2],\n",
    "                                [9, 8, 4],\n",
    "                                [2, 4, 5]])\n",
    "    \n",
    "    # Run the forward method\n",
    "    output = maxpool.forward(A)\n",
    "    \n",
    "    # Check if the output matches the expected output\n",
    "    assert np.array_equal(output, expected_output), f\"Expected {expected_output}, got {output}\"\n",
    "\n",
    "# Run the second test\n",
    "test_maxpool_padding()\n"
   ]
  },
  {
   "cell_type": "code",
   "execution_count": 49,
   "metadata": {},
   "outputs": [],
   "source": [
    "# Implementing the third test: Different k Test\n",
    "\n",
    "def test_maxpool_diff_k():\n",
    "    # Initialize MaxPool with k=3\n",
    "    maxpool = MaxPool(3)\n",
    "    \n",
    "    # Define a 6x6 matrix\n",
    "    A = np.array([[12, 15, 5, 0, 1, 2],\n",
    "                  [3, 11, 3, 7, 2, 4],\n",
    "                  [9, 3, 5, 2, 3, 1],\n",
    "                  [4, 7, 6, 8, 4, 6],\n",
    "                  [1, 2, 3, 4, 5, 2],\n",
    "                  [2, 3, 5, 1, 0, 3]])\n",
    "    \n",
    "    # Expected output based on manual calculation\n",
    "    expected_output = np.array([[15, 7],\n",
    "                                [7, 8]])\n",
    "    \n",
    "    # Run the forward method\n",
    "    output = maxpool.forward(A)\n",
    "    \n",
    "    # Check if the output matches the expected output\n",
    "    assert np.array_equal(output, expected_output), f\"Expected {expected_output}, got {output}\"\n",
    "\n",
    "# Run the third test\n",
    "test_maxpool_diff_k()\n"
   ]
  },
  {
   "cell_type": "code",
   "execution_count": 50,
   "metadata": {},
   "outputs": [],
   "source": [
    "# Adjusting the fourth test: Reuse Lookup Test\n",
    "\n",
    "def test_maxpool_reuse_lookup():\n",
    "    # Initialize MaxPool with k=2\n",
    "    maxpool = MaxPool(2)\n",
    "    \n",
    "    # Define a 4x4 matrix for the first run\n",
    "    A1 = np.array([\n",
    "        [12, 15, 5, 0],\n",
    "        [3, 11, 3, 7],\n",
    "        [9, 3, 5, 2],\n",
    "        [4, 7, 6, 8]\n",
    "    ])\n",
    "    \n",
    "    # Define a 5x5 matrix for the second run\n",
    "    A2 = np.array([\n",
    "        [12, 15, 5, 0, 1],\n",
    "        [3, 11, 3, 7, 2],\n",
    "        [9, 3, 5, 2, 3],\n",
    "        [4, 7, 6, 8, 4],\n",
    "        [1, 2, 3, 4, 5]\n",
    "    ])\n",
    "    \n",
    "    # Corrected expected output for A1 based on manual calculation\n",
    "    expected_output1 = np.array([\n",
    "        [15, 7],\n",
    "        [9, 8]\n",
    "    ])\n",
    "    \n",
    "    # Corrected expected output for A2 based on manual calculation\n",
    "    expected_output2 = np.array([\n",
    "        [15, 7, 2],\n",
    "        [9, 8, 4],\n",
    "        [2, 4, 5]\n",
    "    ])\n",
    "    \n",
    "    # Run the forward method for A1 and check output\n",
    "    output1 = maxpool.forward(A1)\n",
    "    assert np.array_equal(output1, expected_output1), f\"Expected {expected_output1}, got {output1}\"\n",
    "    \n",
    "    # Run the forward method for A2 and check output\n",
    "    output2 = maxpool.forward(A2)\n",
    "    assert np.array_equal(output2, expected_output2), f\"Expected {expected_output2}, got {output2}\"\n",
    "    \n",
    "    # Run the forward method for A1 again and check output\n",
    "    output1_again = maxpool.forward(A1)\n",
    "    assert np.array_equal(output1_again, expected_output1), f\"Expected {expected_output1}, got {output1_again}\"\n",
    "\n",
    "# Run the fourth test\n",
    "test_maxpool_reuse_lookup()\n"
   ]
  },
  {
   "cell_type": "code",
   "execution_count": null,
   "metadata": {},
   "outputs": [],
   "source": []
  }
 ],
 "metadata": {
  "kernelspec": {
   "display_name": ".venv",
   "language": "python",
   "name": "python3"
  },
  "language_info": {
   "codemirror_mode": {
    "name": "ipython",
    "version": 3
   },
   "file_extension": ".py",
   "mimetype": "text/x-python",
   "name": "python",
   "nbconvert_exporter": "python",
   "pygments_lexer": "ipython3",
   "version": "3.11.5"
  }
 },
 "nbformat": 4,
 "nbformat_minor": 2
}
