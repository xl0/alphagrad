{
 "cells": [
  {
   "cell_type": "code",
   "execution_count": null,
   "metadata": {},
   "outputs": [],
   "source": []
  },
  {
   "cell_type": "code",
   "execution_count": null,
   "metadata": {},
   "outputs": [],
   "source": [
    "import numpy as np\n",
    "A = np.arange(36)\n",
    "np.random.shuffle(A)\n",
    "A = A.reshape(6,6)"
   ]
  },
  {
   "cell_type": "code",
   "execution_count": null,
   "metadata": {},
   "outputs": [],
   "source": [
    "from numpy.lib.stride_tricks import as_strided\n",
    "\n",
    "s, k = 2, 2\n",
    "\n",
    "out_height = (A.shape[0] - k)//s + 1\n",
    "out_width = (A.shape[1] - k)//s + 1\n",
    "\n",
    "strided = as_strided(A, shape=(out_height, out_width, k, k), strides=(s*A.strides[0], s*A.strides[1], A.strides[0], A.strides[1]))"
   ]
  },
  {
   "cell_type": "code",
   "execution_count": null,
   "metadata": {},
   "outputs": [
    {
     "data": {
      "text/plain": [
       "array([[[[14, 29],\n",
       "         [ 2, 12]],\n",
       "\n",
       "        [[26, 16],\n",
       "         [20,  7]],\n",
       "\n",
       "        [[15, 25],\n",
       "         [27, 33]]],\n",
       "\n",
       "\n",
       "       [[[35,  9],\n",
       "         [31,  0]],\n",
       "\n",
       "        [[ 8, 23],\n",
       "         [10, 30]],\n",
       "\n",
       "        [[28, 19],\n",
       "         [ 3, 21]]],\n",
       "\n",
       "\n",
       "       [[[32, 22],\n",
       "         [13,  5]],\n",
       "\n",
       "        [[18,  6],\n",
       "         [17, 34]],\n",
       "\n",
       "        [[ 4, 11],\n",
       "         [ 1, 24]]]])"
      ]
     },
     "execution_count": null,
     "metadata": {},
     "output_type": "execute_result"
    }
   ],
   "source": [
    "strided"
   ]
  },
  {
   "cell_type": "code",
   "execution_count": null,
   "metadata": {},
   "outputs": [
    {
     "data": {
      "text/plain": [
       "'1.24.4'"
      ]
     },
     "execution_count": null,
     "metadata": {},
     "output_type": "execute_result"
    }
   ],
   "source": [
    "np.__version__"
   ]
  },
  {
   "cell_type": "code",
   "execution_count": null,
   "metadata": {},
   "outputs": [
    {
     "data": {
      "text/plain": [
       "array([[1, 0, 3],\n",
       "       [0, 3, 0],\n",
       "       [0, 3, 3]])"
      ]
     },
     "execution_count": null,
     "metadata": {},
     "output_type": "execute_result"
    }
   ],
   "source": [
    "merged_shape = (*strided.shape[:-2], -1)  # Merge the last two dimensions\n",
    "reshaped_strided = strided.reshape(merged_shape)\n",
    "max_indices = np.argmax(reshaped_strided, axis=-1)\n",
    "\n",
    "max_indices"
   ]
  },
  {
   "cell_type": "code",
   "execution_count": null,
   "metadata": {},
   "outputs": [
    {
     "name": "stdout",
     "output_type": "stream",
     "text": [
      "Max indices:\n",
      " [[1 0 3]\n",
      " [0 3 0]\n",
      " [0 3 3]]\n",
      "Unraveled indices:\n",
      " (array([[0, 0, 1],\n",
      "       [0, 1, 0],\n",
      "       [0, 1, 1]]), array([[1, 0, 1],\n",
      "       [0, 1, 0],\n",
      "       [0, 1, 1]]))\n"
     ]
    }
   ],
   "source": [
    "# Optionally, unravel the indices\n",
    "unraveled_indices = np.unravel_index(max_indices, (k, k))\n",
    "\n",
    "print(\"Max indices:\\n\", max_indices)\n",
    "print(\"Unraveled indices:\\n\", unraveled_indices)"
   ]
  },
  {
   "cell_type": "code",
   "execution_count": null,
   "metadata": {},
   "outputs": [],
   "source": [
    "# Initialize the shape of the original array and the stride\n",
    "original_shape = (6, 6)\n",
    "stride = 2\n",
    "\n",
    "# Calculate the original indices\n",
    "original_row_indices = np.arange(0, max_indices.shape[0] * stride, stride)[:, np.newaxis] + unraveled_indices[0]\n",
    "original_col_indices = np.arange(0, max_indices.shape[1] * stride, stride)[np.newaxis, :] + unraveled_indices[1]\n",
    "\n",
    "# Pair them together\n",
    "original_indices = np.stack((original_row_indices, original_col_indices), axis=-1)"
   ]
  },
  {
   "cell_type": "code",
   "execution_count": null,
   "metadata": {},
   "outputs": [
    {
     "data": {
      "text/plain": [
       "array([[[0, 1],\n",
       "        [0, 2],\n",
       "        [1, 5]],\n",
       "\n",
       "       [[2, 0],\n",
       "        [3, 3],\n",
       "        [2, 4]],\n",
       "\n",
       "       [[4, 0],\n",
       "        [5, 3],\n",
       "        [5, 5]]])"
      ]
     },
     "execution_count": null,
     "metadata": {},
     "output_type": "execute_result"
    }
   ],
   "source": [
    "original_indices"
   ]
  },
  {
   "cell_type": "code",
   "execution_count": null,
   "metadata": {},
   "outputs": [
    {
     "data": {
      "text/plain": [
       "array([[14, 29, 26, 16, 15, 25],\n",
       "       [ 2, 12, 20,  7, 27, 33],\n",
       "       [35,  9,  8, 23, 28, 19],\n",
       "       [31,  0, 10, 30,  3, 21],\n",
       "       [32, 22, 18,  6,  4, 11],\n",
       "       [13,  5, 17, 34,  1, 24]])"
      ]
     },
     "execution_count": null,
     "metadata": {},
     "output_type": "execute_result"
    }
   ],
   "source": [
    "A"
   ]
  },
  {
   "cell_type": "code",
   "execution_count": null,
   "metadata": {},
   "outputs": [
    {
     "data": {
      "text/plain": [
       "array([[[[ 1,  2],\n",
       "         [ 3,  4]],\n",
       "\n",
       "        [[ 5,  6],\n",
       "         [ 7,  8]]],\n",
       "\n",
       "\n",
       "       [[[ 9, 10],\n",
       "         [11, 12]],\n",
       "\n",
       "        [[13, 14],\n",
       "         [15, 16]]]])"
      ]
     },
     "execution_count": null,
     "metadata": {},
     "output_type": "execute_result"
    }
   ],
   "source": [
    "A = np.array([[1,  2,  3,  4],\n",
    "              [5,  6,  7,  8],\n",
    "              [9,  10, 11, 12],\n",
    "              [13, 14, 15, 16]])\n",
    "\n",
    "A = A.reshape(2, 2, 2, 2)\n",
    "A"
   ]
  },
  {
   "cell_type": "code",
   "execution_count": null,
   "metadata": {},
   "outputs": [
    {
     "data": {
      "text/plain": [
       "array([[[[ 1,  2],\n",
       "         [ 5,  6]],\n",
       "\n",
       "        [[ 3,  4],\n",
       "         [ 7,  8]]],\n",
       "\n",
       "\n",
       "       [[[ 9, 10],\n",
       "         [13, 14]],\n",
       "\n",
       "        [[11, 12],\n",
       "         [15, 16]]]])"
      ]
     },
     "execution_count": null,
     "metadata": {},
     "output_type": "execute_result"
    }
   ],
   "source": [
    "A = A.swapaxes(-2, -3) ;  A"
   ]
  },
  {
   "cell_type": "code",
   "execution_count": null,
   "metadata": {},
   "outputs": [
    {
     "data": {
      "text/plain": [
       "(2, 2, 2, 2)"
      ]
     },
     "execution_count": null,
     "metadata": {},
     "output_type": "execute_result"
    }
   ],
   "source": [
    "A.shape"
   ]
  },
  {
   "cell_type": "code",
   "execution_count": null,
   "metadata": {},
   "outputs": [
    {
     "data": {
      "text/plain": [
       "array([[[1, 1],\n",
       "        [1, 1]],\n",
       "\n",
       "       [[1, 1],\n",
       "        [1, 1]]])"
      ]
     },
     "execution_count": null,
     "metadata": {},
     "output_type": "execute_result"
    }
   ],
   "source": [
    "np.argmax(A, axis=-1)"
   ]
  },
  {
   "cell_type": "markdown",
   "metadata": {},
   "source": [
    "# FINAL"
   ]
  },
  {
   "cell_type": "code",
   "execution_count": null,
   "metadata": {},
   "outputs": [
    {
     "data": {
      "text/plain": [
       "array([[[[ 0,  1],\n",
       "         [ 4,  5]],\n",
       "\n",
       "        [[ 2,  3],\n",
       "         [ 6,  7]]],\n",
       "\n",
       "\n",
       "       [[[ 8,  9],\n",
       "         [12, 13]],\n",
       "\n",
       "        [[10, 11],\n",
       "         [14, 15]]]])"
      ]
     },
     "execution_count": null,
     "metadata": {},
     "output_type": "execute_result"
    }
   ],
   "source": [
    "# Further revised transform function to output a 2D array where each row is a flattened kxk block\n",
    "def final_transform(matrix, k):\n",
    "    \"\"\"\n",
    "    Transforms a matrix so that each kxk block is flattened and each such flattened block becomes a row in a 2D array.\n",
    "    \n",
    "    Parameters:\n",
    "        matrix (np.array): The matrix to transform.\n",
    "        k (int): The size of the square blocks.\n",
    "    \n",
    "    Returns:\n",
    "        np.array: The transformed 2D array where each row is a flattened kxk block.\n",
    "    \"\"\"\n",
    "    # Reshape into blocks of size kxk\n",
    "    reshaped_matrix = matrix.reshape(matrix.shape[0] // k, k, matrix.shape[1] // k, k)\n",
    "    \n",
    "    # Swap the last two axes\n",
    "    swapped_matrix = reshaped_matrix.swapaxes(1, 2)\n",
    "    \n",
    "    # Flatten each kxk block and make each such flattened block a row in the output 2D array\n",
    "    return swapped_matrix #.reshape(-1, k * k)\n",
    "\n",
    "# Testing the final transform function with arange(16)\n",
    "test_matrix = np.arange(16).reshape(4, 4)\n",
    "final_transformed_test_matrix = final_transform(test_matrix, 2)\n",
    "final_transformed_test_matrix\n",
    "\n",
    "\n"
   ]
  },
  {
   "cell_type": "code",
   "execution_count": null,
   "metadata": {},
   "outputs": [
    {
     "data": {
      "text/plain": [
       "array([[ 0,  1,  2,  3],\n",
       "       [ 4,  5,  6,  7],\n",
       "       [ 8,  9, 10, 11],\n",
       "       [12, 13, 14, 15]])"
      ]
     },
     "execution_count": null,
     "metadata": {},
     "output_type": "execute_result"
    }
   ],
   "source": [
    "test_matrix"
   ]
  },
  {
   "cell_type": "code",
   "execution_count": null,
   "metadata": {},
   "outputs": [
    {
     "data": {
      "text/plain": [
       "array[2, 2, 2, 2] i64 n=16 x∈[0, 15] μ=7.500 σ=4.610"
      ]
     },
     "execution_count": null,
     "metadata": {},
     "output_type": "execute_result"
    }
   ],
   "source": [
    "from lovely_numpy import Lo\n",
    "Lo(final_transformed_test_matrix)"
   ]
  },
  {
   "cell_type": "code",
   "execution_count": null,
   "metadata": {},
   "outputs": [
    {
     "data": {
      "text/plain": [
       "array([ 1,  7,  8, 15])"
      ]
     },
     "execution_count": null,
     "metadata": {},
     "output_type": "execute_result"
    }
   ],
   "source": [
    "# Using the final_transform function in the main code\n",
    "\n",
    "# Step 1: Define the original 4x4 matrix A\n",
    "A = np.array([[12, 15, 5, 0],\n",
    "              [3, 11, 3, 7],\n",
    "              [9, 3, 5, 2],\n",
    "              [4, 7, 6, 8]])\n",
    "\n",
    "# Step 2: Transform A using the final_transform function\n",
    "transformed_A = final_transform(A, 2)\n",
    "\n",
    "# Step 3: Find max_indices using np.argmax\n",
    "max_indices = np.argmax(transformed_A, axis=1)\n",
    "\n",
    "# Step 4: Create a lookup matrix and transform it\n",
    "lookup = np.arange(16).reshape(4, 4)\n",
    "transformed_lookup = final_transform(lookup, 2)\n",
    "\n",
    "# Step 5: Retrieve original indices using max_indices\n",
    "final_original_indices = transformed_lookup[np.arange(max_indices.size), max_indices]\n",
    "\n",
    "final_original_indices\n"
   ]
  },
  {
   "cell_type": "code",
   "execution_count": null,
   "metadata": {},
   "outputs": [
    {
     "data": {
      "text/plain": [
       "array([[15,  7],\n",
       "       [ 9,  8]])"
      ]
     },
     "execution_count": null,
     "metadata": {},
     "output_type": "execute_result"
    }
   ],
   "source": [
    "# Implementing the MaxPool class\n",
    "class MaxPool:\n",
    "    def __init__(self, k):\n",
    "        self.k = k\n",
    "        self.lookup = None\n",
    "\n",
    "    def forward(self, A):\n",
    "        # Determine padding and pad A\n",
    "        pad_height = (self.k - A.shape[0] % self.k) % self.k\n",
    "        pad_width = (self.k - A.shape[1] % self.k) % self.k\n",
    "        padded_A = np.pad(A, ((0, pad_height), (0, pad_width)), mode='constant')\n",
    "        \n",
    "        # Create lookup matrix if it's None or the shape doesn't match\n",
    "        if self.lookup is None or self.lookup.shape != padded_A.shape:\n",
    "            rows, cols = padded_A.shape\n",
    "            self.lookup = np.arange(rows * cols).reshape(rows, cols)\n",
    "        \n",
    "        # Transform A and lookup matrix using the final_transform function\n",
    "        transformed_A = final_transform(padded_A, self.k)\n",
    "        transformed_lookup = final_transform(self.lookup, self.k)\n",
    "        \n",
    "        # Find max_indices using np.argmax\n",
    "        max_indices = np.argmax(transformed_A, axis=1)\n",
    "        \n",
    "        # Retrieve original indices using max_indices\n",
    "        final_original_indices = transformed_lookup[np.arange(max_indices.size), max_indices]\n",
    "        \n",
    "        # Retrieve the max values and reshape to a 2D array\n",
    "        max_values = padded_A.flatten()[final_original_indices]\n",
    "        out_height = padded_A.shape[0] // self.k\n",
    "        out_width = padded_A.shape[1] // self.k\n",
    "        return max_values.reshape(out_height, out_width)\n",
    "\n",
    "# Testing the MaxPool class\n",
    "maxpool = MaxPool(2)\n",
    "A = np.array([[12, 15, 5, 0],\n",
    "              [3, 11, 3, 7],\n",
    "              [9, 3, 5, 2],\n",
    "              [4, 7, 6, 8]])\n",
    "maxpool_output = maxpool.forward(A)\n",
    "maxpool_output\n"
   ]
  },
  {
   "cell_type": "code",
   "execution_count": null,
   "metadata": {},
   "outputs": [
    {
     "data": {
      "text/plain": [
       "array([[15,  7],\n",
       "       [ 9,  8]])"
      ]
     },
     "execution_count": null,
     "metadata": {},
     "output_type": "execute_result"
    }
   ],
   "source": [
    "# Modifying the MaxPool class to use cleaner keys for lookups\n",
    "class MaxPool:\n",
    "    def __init__(self, k):\n",
    "        self.k = k\n",
    "        self.lookups = {}  # Dictionary to store lookups for different sizes\n",
    "\n",
    "    def forward(self, A):\n",
    "        # Determine padding and pad A\n",
    "        pad_height = (self.k - A.shape[0] % self.k) % self.k\n",
    "        pad_width = (self.k - A.shape[1] % self.k) % self.k\n",
    "        padded_A = np.pad(A, ((0, pad_height), (0, pad_width)), mode='constant')\n",
    "        \n",
    "        # Create or retrieve lookup matrix using a cleaner key\n",
    "        key = f\"{padded_A.shape[0]}x{padded_A.shape[1]}\"\n",
    "        if key not in self.lookups:\n",
    "            rows, cols = padded_A.shape\n",
    "            self.lookups[key] = np.arange(rows * cols).reshape(rows, cols)\n",
    "        \n",
    "        lookup = self.lookups[key]\n",
    "        \n",
    "        # Transform A and lookup matrix using the final_transform function\n",
    "        transformed_A = final_transform(padded_A, self.k)\n",
    "        transformed_lookup = final_transform(lookup, self.k)\n",
    "        \n",
    "        # Find max_indices using np.argmax\n",
    "        max_indices = np.argmax(transformed_A, axis=1)\n",
    "        \n",
    "        # Retrieve original indices using max_indices\n",
    "        final_original_indices = transformed_lookup[np.arange(max_indices.size), max_indices]\n",
    "        \n",
    "        # Retrieve the max values and reshape to a 2D array\n",
    "        max_values = padded_A.flatten()[final_original_indices]\n",
    "        out_height = padded_A.shape[0] // self.k\n",
    "        out_width = padded_A.shape[1] // self.k\n",
    "        return max_values.reshape(out_height, out_width)\n",
    "\n",
    "# Quick test to ensure functionality remains the same\n",
    "maxpool = MaxPool(2)\n",
    "A1 = np.array([[12, 15, 5, 0],\n",
    "               [3, 11, 3, 7],\n",
    "               [9, 3, 5, 2],\n",
    "               [4, 7, 6, 8]])\n",
    "\n",
    "output1 = maxpool.forward(A1)\n",
    "output1\n"
   ]
  },
  {
   "cell_type": "code",
   "execution_count": null,
   "metadata": {},
   "outputs": [],
   "source": [
    "def test_maxpool_basic():\n",
    "    # Initialize MaxPool with k=2\n",
    "    maxpool = MaxPool(2)\n",
    "    \n",
    "    # Define a 4x4 matrix\n",
    "    A = np.array([[12, 15, 5, 0],\n",
    "                  [3, 11, 3, 7],\n",
    "                  [9, 3, 5, 2],\n",
    "                  [4, 7, 6, 8]])\n",
    "    \n",
    "    # Expected output based on manual calculation\n",
    "    expected_output = np.array([[15, 7],\n",
    "                                [9, 8]])\n",
    "    \n",
    "    # Run the forward method\n",
    "    output = maxpool.forward(A)\n",
    "    \n",
    "    # Check if the output matches the expected output\n",
    "    assert np.array_equal(output, expected_output), f\"Expected {expected_output}, got {output}\"\n",
    "\n",
    "# Run the first test\n",
    "test_maxpool_basic()"
   ]
  },
  {
   "cell_type": "code",
   "execution_count": null,
   "metadata": {},
   "outputs": [
    {
     "data": {
      "text/plain": [
       "(0.0003509521484375, 0.0005297660827636719)"
      ]
     },
     "execution_count": null,
     "metadata": {},
     "output_type": "execute_result"
    }
   ],
   "source": [
    "from time import time\n",
    "\n",
    "# Flushing the cache by reinitializing the MaxPool instance\n",
    "maxpool = MaxPool(2)\n",
    "\n",
    "# Timing the first run of the test after flushing the cache\n",
    "start_time = time()\n",
    "test_maxpool_basic()\n",
    "first_run_time_flushed = time() - start_time\n",
    "\n",
    "# Timing the second run of the test after flushing the cache\n",
    "start_time = time()\n",
    "test_maxpool_basic()\n",
    "second_run_time_flushed = time() - start_time\n",
    "\n",
    "first_run_time_flushed, second_run_time_flushed\n"
   ]
  },
  {
   "cell_type": "code",
   "execution_count": null,
   "metadata": {},
   "outputs": [],
   "source": [
    "# Implementing the second test: Padding Test\n",
    "\n",
    "def test_maxpool_padding():\n",
    "    # Initialize MaxPool with k=2\n",
    "    maxpool = MaxPool(2)\n",
    "    \n",
    "    # Define a 5x5 matrix\n",
    "    A = np.array([[12, 15, 5, 0, 1],\n",
    "                  [3, 11, 3, 7, 2],\n",
    "                  [9, 3, 5, 2, 3],\n",
    "                  [4, 7, 6, 8, 4],\n",
    "                  [1, 2, 3, 4, 5]])\n",
    "    \n",
    "    # Expected output based on manual calculation\n",
    "    expected_output = np.array([[15, 7, 2],\n",
    "                                [9, 8, 4],\n",
    "                                [2, 4, 5]])\n",
    "    \n",
    "    # Run the forward method\n",
    "    output = maxpool.forward(A)\n",
    "    \n",
    "    # Check if the output matches the expected output\n",
    "    assert np.array_equal(output, expected_output), f\"Expected {expected_output}, got {output}\"\n",
    "\n",
    "# Run the second test\n",
    "test_maxpool_padding()\n"
   ]
  },
  {
   "cell_type": "code",
   "execution_count": null,
   "metadata": {},
   "outputs": [],
   "source": [
    "# Implementing the third test: Different k Test\n",
    "\n",
    "def test_maxpool_diff_k():\n",
    "    # Initialize MaxPool with k=3\n",
    "    maxpool = MaxPool(3)\n",
    "    \n",
    "    # Define a 6x6 matrix\n",
    "    A = np.array([[12, 15, 5, 0, 1, 2],\n",
    "                  [3, 11, 3, 7, 2, 4],\n",
    "                  [9, 3, 5, 2, 3, 1],\n",
    "                  [4, 7, 6, 8, 4, 6],\n",
    "                  [1, 2, 3, 4, 5, 2],\n",
    "                  [2, 3, 5, 1, 0, 3]])\n",
    "    \n",
    "    # Expected output based on manual calculation\n",
    "    expected_output = np.array([[15, 7],\n",
    "                                [7, 8]])\n",
    "    \n",
    "    # Run the forward method\n",
    "    output = maxpool.forward(A)\n",
    "    \n",
    "    # Check if the output matches the expected output\n",
    "    assert np.array_equal(output, expected_output), f\"Expected {expected_output}, got {output}\"\n",
    "\n",
    "# Run the third test\n",
    "test_maxpool_diff_k()\n"
   ]
  },
  {
   "cell_type": "code",
   "execution_count": null,
   "metadata": {},
   "outputs": [],
   "source": [
    "# Adjusting the fourth test: Reuse Lookup Test\n",
    "\n",
    "def test_maxpool_reuse_lookup():\n",
    "    # Initialize MaxPool with k=2\n",
    "    maxpool = MaxPool(2)\n",
    "    \n",
    "    # Define a 4x4 matrix for the first run\n",
    "    A1 = np.array([\n",
    "        [12, 15, 5, 0],\n",
    "        [3, 11, 3, 7],\n",
    "        [9, 3, 5, 2],\n",
    "        [4, 7, 6, 8]\n",
    "    ])\n",
    "    \n",
    "    # Define a 5x5 matrix for the second run\n",
    "    A2 = np.array([\n",
    "        [12, 15, 5, 0, 1],\n",
    "        [3, 11, 3, 7, 2],\n",
    "        [9, 3, 5, 2, 3],\n",
    "        [4, 7, 6, 8, 4],\n",
    "        [1, 2, 3, 4, 5]\n",
    "    ])\n",
    "    \n",
    "    # Corrected expected output for A1 based on manual calculation\n",
    "    expected_output1 = np.array([\n",
    "        [15, 7],\n",
    "        [9, 8]\n",
    "    ])\n",
    "    \n",
    "    # Corrected expected output for A2 based on manual calculation\n",
    "    expected_output2 = np.array([\n",
    "        [15, 7, 2],\n",
    "        [9, 8, 4],\n",
    "        [2, 4, 5]\n",
    "    ])\n",
    "    \n",
    "    # Run the forward method for A1 and check output\n",
    "    output1 = maxpool.forward(A1)\n",
    "    assert np.array_equal(output1, expected_output1), f\"Expected {expected_output1}, got {output1}\"\n",
    "    \n",
    "    # Run the forward method for A2 and check output\n",
    "    output2 = maxpool.forward(A2)\n",
    "    assert np.array_equal(output2, expected_output2), f\"Expected {expected_output2}, got {output2}\"\n",
    "    \n",
    "    # Run the forward method for A1 again and check output\n",
    "    output1_again = maxpool.forward(A1)\n",
    "    assert np.array_equal(output1_again, expected_output1), f\"Expected {expected_output1}, got {output1_again}\"\n",
    "\n",
    "# Run the fourth test\n",
    "test_maxpool_reuse_lookup()\n"
   ]
  },
  {
   "cell_type": "code",
   "execution_count": null,
   "metadata": {},
   "outputs": [
    {
     "data": {
      "text/plain": [
       "array([[ 0,  1,  2,  3,  4,  5],\n",
       "       [ 6,  7,  8,  9, 10, 11],\n",
       "       [12, 13, 14, 15, 16, 17],\n",
       "       [18, 19, 20, 21, 22, 23],\n",
       "       [24, 25, 26, 27, 28, 29],\n",
       "       [30, 31, 32, 33, 34, 35]], dtype=int32)"
      ]
     },
     "execution_count": null,
     "metadata": {},
     "output_type": "execute_result"
    }
   ],
   "source": [
    "# Input 5x5, kernelsize=3\n",
    "N = 6\n",
    "# ouput 3x3\n",
    "k = 3\n",
    "I = np.arange(N*N, dtype=np.int32).reshape(N, N)\n",
    "I\n"
   ]
  },
  {
   "cell_type": "code",
   "execution_count": null,
   "metadata": {},
   "outputs": [
    {
     "data": {
      "text/plain": [
       "array[4, 4, 9] i32 n=144 x∈[0, 35] μ=17.500 σ=8.421\n",
       "array([[[ 0,  1,  2,  6,  7,  8, 12, 13, 14],\n",
       "        [ 1,  2,  3,  7,  8,  9, 13, 14, 15],\n",
       "        [ 2,  3,  4,  8,  9, 10, 14, 15, 16],\n",
       "        [ 3,  4,  5,  9, 10, 11, 15, 16, 17]],\n",
       "\n",
       "       [[ 6,  7,  8, 12, 13, 14, 18, 19, 20],\n",
       "        [ 7,  8,  9, 13, 14, 15, 19, 20, 21],\n",
       "        [ 8,  9, 10, 14, 15, 16, 20, 21, 22],\n",
       "        [ 9, 10, 11, 15, 16, 17, 21, 22, 23]],\n",
       "\n",
       "       [[12, 13, 14, 18, 19, 20, 24, 25, 26],\n",
       "        [13, 14, 15, 19, 20, 21, 25, 26, 27],\n",
       "        [14, 15, 16, 20, 21, 22, 26, 27, 28],\n",
       "        [15, 16, 17, 21, 22, 23, 27, 28, 29]],\n",
       "\n",
       "       [[18, 19, 20, 24, 25, 26, 30, 31, 32],\n",
       "        [19, 20, 21, 25, 26, 27, 31, 32, 33],\n",
       "        [20, 21, 22, 26, 27, 28, 32, 33, 34],\n",
       "        [21, 22, 23, 27, 28, 29, 33, 34, 35]]], dtype=int32)"
      ]
     },
     "execution_count": null,
     "metadata": {},
     "output_type": "execute_result"
    }
   ],
   "source": [
    "\n",
    "s = N-k+1  # output size: 4 postions kernel can slide in x and y direction\n",
    "O = np.zeros((s, s, k*k), dtype=np.int32)\n",
    "for r in range(s):\n",
    "    for c in range(s):\n",
    "        # each position in output needs to be a list of the indices of the input for this kernel-position\n",
    "        O[r,c] = I[r:r+k, c:c+k].flatten()\n",
    "\n",
    "Lo(O).v"
   ]
  },
  {
   "cell_type": "code",
   "execution_count": null,
   "metadata": {},
   "outputs": [
    {
     "data": {
      "text/plain": [
       "array([0., 0., 0., 0., 0., 0., 0., 0., 0., 0.])"
      ]
     },
     "execution_count": null,
     "metadata": {},
     "output_type": "execute_result"
    }
   ],
   "source": [
    "aa = np.zeros(10)\n",
    "aa"
   ]
  },
  {
   "cell_type": "code",
   "execution_count": null,
   "metadata": {},
   "outputs": [],
   "source": [
    "idx = np.array([1, 1, 5, 7])\n",
    "aa[idx] +=1 "
   ]
  },
  {
   "cell_type": "code",
   "execution_count": null,
   "metadata": {},
   "outputs": [
    {
     "data": {
      "text/plain": [
       "array([0., 1., 0., 0., 0., 1., 0., 1., 0., 0.])"
      ]
     },
     "execution_count": null,
     "metadata": {},
     "output_type": "execute_result"
    }
   ],
   "source": [
    "aa"
   ]
  },
  {
   "cell_type": "code",
   "execution_count": null,
   "metadata": {},
   "outputs": [
    {
     "name": "stdout",
     "output_type": "stream",
     "text": [
      "array[36] x∈[-1.577, 2.293] μ=0.346 σ=0.770\n"
     ]
    },
    {
     "data": {
      "text/plain": [
       "(array[36] x∈[-1.577, 2.293] μ=0.346 σ=0.770,\n",
       " array([[1, 8, 7, 6],\n",
       "        [6, 5, 4, 3],\n",
       "        [6, 2, 1, 0],\n",
       "        [3, 0, 5, 2]]))"
      ]
     },
     "execution_count": null,
     "metadata": {},
     "output_type": "execute_result"
    }
   ],
   "source": [
    "A = np.random.randn(6,6)\n",
    "\n",
    "from lovely_numpy import Lo\n",
    "\n",
    "A_flat = A.flatten()#.reshape(A.shape)\n",
    "print(Lo(A_flat))\n",
    "\n",
    "rel_indices = A.flat[O].argmax(axis=-1)\n",
    "\n",
    "Lo(A_flat),rel_indices"
   ]
  },
  {
   "cell_type": "code",
   "execution_count": null,
   "metadata": {},
   "outputs": [
    {
     "data": {
      "text/plain": [
       "array[16, 9] i32 n=144 x∈[0, 35] μ=17.500 σ=8.421"
      ]
     },
     "execution_count": null,
     "metadata": {},
     "output_type": "execute_result"
    }
   ],
   "source": [
    "O_flat = O.reshape(-1, O.shape[-1])\n",
    "Lo(O_flat)"
   ]
  },
  {
   "cell_type": "code",
   "execution_count": null,
   "metadata": {},
   "outputs": [
    {
     "data": {
      "text/plain": [
       "array([[ 1,  2,  3,  7,  8,  9, 13, 14, 15],\n",
       "       [12, 13, 14, 18, 19, 20, 24, 25, 26],\n",
       "       [ 9, 10, 11, 15, 16, 17, 21, 22, 23],\n",
       "       [ 8,  9, 10, 14, 15, 16, 20, 21, 22],\n",
       "       [ 8,  9, 10, 14, 15, 16, 20, 21, 22],\n",
       "       [ 7,  8,  9, 13, 14, 15, 19, 20, 21],\n",
       "       [ 6,  7,  8, 12, 13, 14, 18, 19, 20],\n",
       "       [ 3,  4,  5,  9, 10, 11, 15, 16, 17],\n",
       "       [ 8,  9, 10, 14, 15, 16, 20, 21, 22],\n",
       "       [ 2,  3,  4,  8,  9, 10, 14, 15, 16],\n",
       "       [ 1,  2,  3,  7,  8,  9, 13, 14, 15],\n",
       "       [ 0,  1,  2,  6,  7,  8, 12, 13, 14],\n",
       "       [ 3,  4,  5,  9, 10, 11, 15, 16, 17],\n",
       "       [ 0,  1,  2,  6,  7,  8, 12, 13, 14],\n",
       "       [ 7,  8,  9, 13, 14, 15, 19, 20, 21],\n",
       "       [ 2,  3,  4,  8,  9, 10, 14, 15, 16]], dtype=int32)"
      ]
     },
     "execution_count": null,
     "metadata": {},
     "output_type": "execute_result"
    }
   ],
   "source": [
    "O_flat[rel_indices.flatten()]"
   ]
  },
  {
   "cell_type": "code",
   "execution_count": null,
   "metadata": {},
   "outputs": [
    {
     "data": {
      "text/plain": [
       "array([[4],\n",
       "       [3],\n",
       "       [5],\n",
       "       [4],\n",
       "       [7],\n",
       "       [6],\n",
       "       [2],\n",
       "       [1],\n",
       "       [4],\n",
       "       [3],\n",
       "       [2],\n",
       "       [2],\n",
       "       [1],\n",
       "       [0],\n",
       "       [2],\n",
       "       [1]])"
      ]
     },
     "execution_count": null,
     "metadata": {},
     "output_type": "execute_result"
    }
   ],
   "source": [
    "rel_idx_flat =rel_indices.reshape(O_flat.shape[0], -1)\n",
    "rel_idx_flat"
   ]
  },
  {
   "cell_type": "code",
   "execution_count": null,
   "metadata": {},
   "outputs": [
    {
     "data": {
      "text/plain": [
       "array([[[ 6,  7,  8, 12, 13, 14, 18, 19, 20]],\n",
       "\n",
       "       [[ 3,  4,  5,  9, 10, 11, 15, 16, 17]],\n",
       "\n",
       "       [[ 7,  8,  9, 13, 14, 15, 19, 20, 21]],\n",
       "\n",
       "       [[ 6,  7,  8, 12, 13, 14, 18, 19, 20]],\n",
       "\n",
       "       [[ 9, 10, 11, 15, 16, 17, 21, 22, 23]],\n",
       "\n",
       "       [[ 8,  9, 10, 14, 15, 16, 20, 21, 22]],\n",
       "\n",
       "       [[ 2,  3,  4,  8,  9, 10, 14, 15, 16]],\n",
       "\n",
       "       [[ 1,  2,  3,  7,  8,  9, 13, 14, 15]],\n",
       "\n",
       "       [[ 6,  7,  8, 12, 13, 14, 18, 19, 20]],\n",
       "\n",
       "       [[ 3,  4,  5,  9, 10, 11, 15, 16, 17]],\n",
       "\n",
       "       [[ 2,  3,  4,  8,  9, 10, 14, 15, 16]],\n",
       "\n",
       "       [[ 2,  3,  4,  8,  9, 10, 14, 15, 16]],\n",
       "\n",
       "       [[ 1,  2,  3,  7,  8,  9, 13, 14, 15]],\n",
       "\n",
       "       [[ 0,  1,  2,  6,  7,  8, 12, 13, 14]],\n",
       "\n",
       "       [[ 2,  3,  4,  8,  9, 10, 14, 15, 16]],\n",
       "\n",
       "       [[ 1,  2,  3,  7,  8,  9, 13, 14, 15]]], dtype=int32)"
      ]
     },
     "execution_count": null,
     "metadata": {},
     "output_type": "execute_result"
    }
   ],
   "source": [
    "O_flat[rel_idx_flat]"
   ]
  },
  {
   "cell_type": "code",
   "execution_count": null,
   "metadata": {},
   "outputs": [
    {
     "ename": "IndexError",
     "evalue": "index 6 is out of bounds for axis 0 with size 6",
     "output_type": "error",
     "traceback": [
      "\u001b[0;31m---------------------------------------------------------------------------\u001b[0m",
      "\u001b[0;31mIndexError\u001b[0m                                Traceback (most recent call last)",
      "\u001b[1;32m/home/xl0/work/projects/grads/tidygrad/nbs/experiments/maxpool.ipynb Cell 33\u001b[0m line \u001b[0;36m1\n\u001b[0;32m----> <a href='vscode-notebook-cell:/home/xl0/work/projects/grads/tidygrad/nbs/experiments/maxpool.ipynb#X40sZmlsZQ%3D%3D?line=0'>1</a>\u001b[0m A[O_flat[rel_idx_flat]]\n",
      "\u001b[0;31mIndexError\u001b[0m: index 6 is out of bounds for axis 0 with size 6"
     ]
    }
   ],
   "source": [
    "A[O_flat[rel_idx_flat]]"
   ]
  },
  {
   "cell_type": "code",
   "execution_count": null,
   "metadata": {},
   "outputs": [],
   "source": []
  }
 ],
 "metadata": {
  "kernelspec": {
   "display_name": "python3",
   "language": "python",
   "name": "python3"
  }
 },
 "nbformat": 4,
 "nbformat_minor": 2
}
